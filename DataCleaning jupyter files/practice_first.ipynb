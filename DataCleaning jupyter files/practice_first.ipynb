{
 "cells": [
  {
   "cell_type": "code",
   "execution_count": 92,
   "metadata": {},
   "outputs": [
    {
     "name": "stdout",
     "output_type": "stream",
     "text": [
      "hello\n"
     ]
    }
   ],
   "source": [
    "print(\"hello\")"
   ]
  },
  {
   "cell_type": "code",
   "execution_count": 93,
   "metadata": {},
   "outputs": [
    {
     "name": "stdout",
     "output_type": "stream",
     "text": [
      "shyam commited\n"
     ]
    }
   ],
   "source": [
    "print(\"shyam commited\")"
   ]
  },
  {
   "cell_type": "code",
   "execution_count": 94,
   "metadata": {},
   "outputs": [],
   "source": [
    "import numpy as np\n",
    "import pandas as pd"
   ]
  },
  {
   "cell_type": "code",
   "execution_count": 95,
   "metadata": {},
   "outputs": [],
   "source": [
    "df = pd.read_csv(\"../movies/movies.csv\")"
   ]
  },
  {
   "cell_type": "code",
   "execution_count": 96,
   "metadata": {},
   "outputs": [
    {
     "data": {
      "text/html": [
       "<div>\n",
       "<style scoped>\n",
       "    .dataframe tbody tr th:only-of-type {\n",
       "        vertical-align: middle;\n",
       "    }\n",
       "\n",
       "    .dataframe tbody tr th {\n",
       "        vertical-align: top;\n",
       "    }\n",
       "\n",
       "    .dataframe thead th {\n",
       "        text-align: right;\n",
       "    }\n",
       "</style>\n",
       "<table border=\"1\" class=\"dataframe\">\n",
       "  <thead>\n",
       "    <tr style=\"text-align: right;\">\n",
       "      <th></th>\n",
       "      <th>MOVIES</th>\n",
       "      <th>YEAR</th>\n",
       "      <th>GENRE</th>\n",
       "      <th>RATING</th>\n",
       "      <th>ONE-LINE</th>\n",
       "      <th>STARS</th>\n",
       "      <th>VOTES</th>\n",
       "      <th>RunTime</th>\n",
       "      <th>Gross</th>\n",
       "    </tr>\n",
       "  </thead>\n",
       "  <tbody>\n",
       "    <tr>\n",
       "      <th>0</th>\n",
       "      <td>Blood Red Sky</td>\n",
       "      <td>(2021)</td>\n",
       "      <td>\\r\\nAction, Horror, Thriller</td>\n",
       "      <td>6.1</td>\n",
       "      <td>\\r\\nA woman with a mysterious illness is force...</td>\n",
       "      <td>\\r\\n    Director:\\r\\nPeter Thorwarth\\r\\n| \\r\\n...</td>\n",
       "      <td>21,062</td>\n",
       "      <td>121.0</td>\n",
       "      <td>NaN</td>\n",
       "    </tr>\n",
       "    <tr>\n",
       "      <th>1</th>\n",
       "      <td>Masters of the Universe: Revelation</td>\n",
       "      <td>(2021– )</td>\n",
       "      <td>\\r\\nAnimation, Action, Adventure</td>\n",
       "      <td>5.0</td>\n",
       "      <td>\\r\\nThe war for Eternia begins again in what m...</td>\n",
       "      <td>\\r\\n            \\r\\n    Stars:\\r\\nChris Wood, ...</td>\n",
       "      <td>17,870</td>\n",
       "      <td>25.0</td>\n",
       "      <td>NaN</td>\n",
       "    </tr>\n",
       "    <tr>\n",
       "      <th>2</th>\n",
       "      <td>The Walking Dead</td>\n",
       "      <td>(2010–2022)</td>\n",
       "      <td>\\r\\nDrama, Horror, Thriller</td>\n",
       "      <td>8.2</td>\n",
       "      <td>\\r\\nSheriff Deputy Rick Grimes wakes up from a...</td>\n",
       "      <td>\\r\\n            \\r\\n    Stars:\\r\\nAndrew Linco...</td>\n",
       "      <td>885,805</td>\n",
       "      <td>44.0</td>\n",
       "      <td>NaN</td>\n",
       "    </tr>\n",
       "    <tr>\n",
       "      <th>3</th>\n",
       "      <td>Rick and Morty</td>\n",
       "      <td>(2013– )</td>\n",
       "      <td>\\r\\nAnimation, Adventure, Comedy</td>\n",
       "      <td>9.2</td>\n",
       "      <td>\\r\\nAn animated series that follows the exploi...</td>\n",
       "      <td>\\r\\n            \\r\\n    Stars:\\r\\nJustin Roila...</td>\n",
       "      <td>414,849</td>\n",
       "      <td>23.0</td>\n",
       "      <td>NaN</td>\n",
       "    </tr>\n",
       "    <tr>\n",
       "      <th>4</th>\n",
       "      <td>Army of Thieves</td>\n",
       "      <td>(2021)</td>\n",
       "      <td>\\r\\nAction, Crime, Horror</td>\n",
       "      <td>NaN</td>\n",
       "      <td>\\r\\nA prequel, set before the events of Army o...</td>\n",
       "      <td>\\r\\n    Director:\\r\\nMatthias Schweighöfer\\r\\n...</td>\n",
       "      <td>NaN</td>\n",
       "      <td>NaN</td>\n",
       "      <td>NaN</td>\n",
       "    </tr>\n",
       "  </tbody>\n",
       "</table>\n",
       "</div>"
      ],
      "text/plain": [
       "                                MOVIES         YEAR  \\\n",
       "0                        Blood Red Sky       (2021)   \n",
       "1  Masters of the Universe: Revelation     (2021– )   \n",
       "2                     The Walking Dead  (2010–2022)   \n",
       "3                       Rick and Morty     (2013– )   \n",
       "4                      Army of Thieves       (2021)   \n",
       "\n",
       "                                          GENRE  RATING  \\\n",
       "0      \\r\\nAction, Horror, Thriller                 6.1   \n",
       "1  \\r\\nAnimation, Action, Adventure                 5.0   \n",
       "2       \\r\\nDrama, Horror, Thriller                 8.2   \n",
       "3  \\r\\nAnimation, Adventure, Comedy                 9.2   \n",
       "4         \\r\\nAction, Crime, Horror                 NaN   \n",
       "\n",
       "                                            ONE-LINE  \\\n",
       "0  \\r\\nA woman with a mysterious illness is force...   \n",
       "1  \\r\\nThe war for Eternia begins again in what m...   \n",
       "2  \\r\\nSheriff Deputy Rick Grimes wakes up from a...   \n",
       "3  \\r\\nAn animated series that follows the exploi...   \n",
       "4  \\r\\nA prequel, set before the events of Army o...   \n",
       "\n",
       "                                               STARS    VOTES  RunTime Gross  \n",
       "0  \\r\\n    Director:\\r\\nPeter Thorwarth\\r\\n| \\r\\n...   21,062    121.0   NaN  \n",
       "1  \\r\\n            \\r\\n    Stars:\\r\\nChris Wood, ...   17,870     25.0   NaN  \n",
       "2  \\r\\n            \\r\\n    Stars:\\r\\nAndrew Linco...  885,805     44.0   NaN  \n",
       "3  \\r\\n            \\r\\n    Stars:\\r\\nJustin Roila...  414,849     23.0   NaN  \n",
       "4  \\r\\n    Director:\\r\\nMatthias Schweighöfer\\r\\n...      NaN      NaN   NaN  "
      ]
     },
     "execution_count": 96,
     "metadata": {},
     "output_type": "execute_result"
    }
   ],
   "source": [
    "df.head()"
   ]
  },
  {
   "cell_type": "code",
   "execution_count": 97,
   "metadata": {},
   "outputs": [
    {
     "data": {
      "text/plain": [
       "Index(['MOVIES', 'YEAR', 'GENRE', 'RATING', 'ONE-LINE', 'STARS', 'VOTES',\n",
       "       'RunTime', 'Gross'],\n",
       "      dtype='object')"
      ]
     },
     "execution_count": 97,
     "metadata": {},
     "output_type": "execute_result"
    }
   ],
   "source": [
    "df.columns"
   ]
  },
  {
   "cell_type": "code",
   "execution_count": 98,
   "metadata": {},
   "outputs": [
    {
     "data": {
      "text/plain": [
       "Index(['MOVIES', 'YEAR', 'GENRE', 'RATING', 'ONE-LINE', 'STARS', 'VOTES',\n",
       "       'RunTime', 'Gross'],\n",
       "      dtype='object')"
      ]
     },
     "execution_count": 98,
     "metadata": {},
     "output_type": "execute_result"
    }
   ],
   "source": [
    "df.columns"
   ]
  },
  {
   "cell_type": "code",
   "execution_count": 99,
   "metadata": {},
   "outputs": [
    {
     "name": "stdout",
     "output_type": "stream",
     "text": [
      "<class 'tuple'>\n",
      "[0.0, 0.5000000000000001, -3.141592653589793, 0.2928932188134523, -0.20710678118654746, -3.9269908169872414, 0.9999999999999998, -0.5, -4.71238898038469, 1.7071067811865475, -0.20710678118654768, -5.497787143782138, 2.0, 0.5, 0.0, 1.7071067811865475, 1.2071067811865475, -0.7853981633974483, 1.0, 1.5, -1.5707963267948966, 0.29289321881345254, 1.2071067811865475, -2.356194490192345]\n"
     ]
    }
   ],
   "source": [
    "import math\n",
    "\n",
    "\n",
    "radius = 1\n",
    "center = (1,0.5)\n",
    "\n",
    "# print(center)\n",
    "print(type(center))\n",
    "\n",
    "# Get the radius from the user\n",
    "\n",
    "l = []\n",
    "\n",
    "# Draw the circle using the polar circle algorithm\n",
    "for i in range(180,360,45):\n",
    "    angle = i * math.pi / 180\n",
    "    x = center[0] + radius * math.cos(angle)\n",
    "    y = center[1] + radius * math.sin(angle)\n",
    "  \n",
    "\n",
    "    l.extend([x, y, math.radians(-i)])\n",
    "for i in range(0,180,45):\n",
    "    angle = i * math.pi / 180\n",
    "    x = center[0] + radius * math.cos(angle)\n",
    "    y = center[1] + radius * math.sin(angle)\n",
    "    \n",
    "\n",
    "    l.extend([x, y, math.radians(-i)])\n",
    " \n",
    "print(l)\n",
    "\n"
   ]
  },
  {
   "cell_type": "code",
   "execution_count": 100,
   "metadata": {},
   "outputs": [
    {
     "ename": "",
     "evalue": "",
     "output_type": "error",
     "traceback": [
      "\u001b[1;31mCanceled future for execute_request message before replies were done"
     ]
    },
    {
     "ename": "",
     "evalue": "",
     "output_type": "error",
     "traceback": [
      "\u001b[1;31mThe Kernel crashed while executing code in the the current cell or a previous cell. Please review the code in the cell(s) to identify a possible cause of the failure. Click <a href='https://aka.ms/vscodeJupyterKernelCrash'>here</a> for more info. View Jupyter <a href='command:jupyter.viewOutput'>log</a> for further details."
     ]
    }
   ],
   "source": [
    "import math\n",
    "from graphics import *\n",
    "import time\n",
    "\n",
    "# Set up the window and center point\n",
    "win = GraphWin(\"Polar Circle Algorithm\", 400, 400)\n",
    "center = Point(200, 200)\n",
    "\n",
    "# Get the radius from the user\n",
    "radius = int(input(\"Enter the radius of the circle: \"))\n",
    "\n",
    "# Draw the circle using the polar circle algorithm\n",
    "for i in range(180,360,45):\n",
    "    angle = i * math.pi / 180\n",
    "    x = center.getX() + radius * math.cos(angle)\n",
    "    y = center.getY() + radius * math.sin(angle)\n",
    "    circ = Circle(Point(x, y), 1)\n",
    "    circ.draw(win)\n",
    "    time.sleep(2)\n",
    "for i in range(0,180,45):\n",
    "    angle = i * math.pi / 180\n",
    "    x = center.getX() + radius * math.cos(angle)\n",
    "    y = center.getY() + radius * math.sin(angle)\n",
    "    circ = Circle(Point(x, y), 1)\n",
    "    circ.draw(win)\n",
    "    time.sleep(2)\n",
    "    \n",
    "\n",
    "# Wait for the user to click the window to close it\n",
    "win.getMouse()\n",
    "win.close()\n"
   ]
  },
  {
   "cell_type": "code",
   "execution_count": null,
   "metadata": {},
   "outputs": [
    {
     "name": "stdout",
     "output_type": "stream",
     "text": [
      "0\n",
      "-1\n",
      "-2\n",
      "-3\n",
      "-4\n"
     ]
    }
   ],
   "source": [
    "for i in range(0, 5):\n",
    "    print(-i)"
   ]
  },
  {
   "attachments": {},
   "cell_type": "markdown",
   "metadata": {},
   "source": [
    "# Learning the regular expression"
   ]
  },
  {
   "cell_type": "code",
   "execution_count": null,
   "metadata": {},
   "outputs": [],
   "source": [
    "import re"
   ]
  },
  {
   "cell_type": "code",
   "execution_count": null,
   "metadata": {},
   "outputs": [
    {
     "name": "stdout",
     "output_type": "stream",
     "text": [
      "golishyamgolisai@gmail.com\n"
     ]
    }
   ],
   "source": [
    "pattern = r\"\\w+@\\w+\\.\\w+\"\n",
    "text = \"my email address is golishyamgolisai@gmail.com\"\n",
    "match = re.search(pattern,text)\n",
    "print(match.group())"
   ]
  },
  {
   "cell_type": "code",
   "execution_count": null,
   "metadata": {},
   "outputs": [
    {
     "name": "stdout",
     "output_type": "stream",
     "text": [
      "Please email us at contact@company.com or support@company.com for any inquiries. \n",
      "Our employees can be reached at firstname.lastname@company.com or initialsurname@company.com. \n",
      "Don't forget to check your spam folder for emails from newsletter@company.com.\n",
      "\n"
     ]
    }
   ],
   "source": [
    "with open(\"../RegularExpText.txt\",\"r\") as f:\n",
    "    text = f.read()\n",
    "print(text)"
   ]
  },
  {
   "cell_type": "code",
   "execution_count": null,
   "metadata": {},
   "outputs": [
    {
     "name": "stdout",
     "output_type": "stream",
     "text": [
      "['contact@company.com', 'support@company.com', 'lastname@company.com', 'initialsurname@company.com', 'newsletter@company.com']\n"
     ]
    }
   ],
   "source": [
    "pattern = \"\\w+@\\w+\\.\\w+\"\n",
    "match = re.findall(pattern,text)\n",
    "print(match)"
   ]
  },
  {
   "cell_type": "code",
   "execution_count": null,
   "metadata": {},
   "outputs": [
    {
     "name": "stdout",
     "output_type": "stream",
     "text": [
      "Please email us at contact@company.com or support@company.com for any inquiries. \n",
      "Our employees can be reached at firstname.lastname@company.com or initialsurname@company.com. \n",
      "Don't forget to check your spam folder for emails from newsletter@company.com.\n",
      "\n",
      "The quick brown fox jumps over the lazy dog. \n",
      "It's a beautiful day today, isn't it?\n",
      "The cat in the hat sat on the mat.\n",
      "John has 3 apples, and Mary has 5 bananas.\n",
      "The phone number for the store is (555) 123-4567.\n",
      "\n"
     ]
    }
   ],
   "source": [
    "with open(\"../RegularExpText.txt\",\"r\") as f:\n",
    "    text = f.read()\n",
    "print(text)"
   ]
  },
  {
   "cell_type": "code",
   "execution_count": null,
   "metadata": {},
   "outputs": [
    {
     "name": "stdout",
     "output_type": "stream",
     "text": [
      "['contact@company.com', 'support@company.com', 'lastname@company.com', 'initialsurname@company.com', 'newsletter@company.com', 'cat', 'hat', 'sat', 'mat', '(555) 123-4567']\n"
     ]
    }
   ],
   "source": [
    "pattern = r\"[a-z]+at|\\w+@\\w+\\.\\w+|\\([0-9]{3}\\) [0-9]{3}\\-[0-9]{4}\"\n",
    "match = re.findall(pattern, text)\n",
    "print(match)"
   ]
  },
  {
   "cell_type": "code",
   "execution_count": null,
   "metadata": {},
   "outputs": [
    {
     "name": "stdout",
     "output_type": "stream",
     "text": [
      "Please email us at contact@company.com or support@company.com for any inquiries. \n",
      "Our employees can be reached at firstname.lastname@company.com or initialsurname@company.com. \n",
      "Don't forget to check your spam folder for emails from newsletter@company.com.\n",
      "\n",
      "The quick brown fox jumps over the lazy dog. \n",
      "It's a beautiful day today, isn't it?\n",
      "The cat in the hat sat on the mat.\n",
      "John has 3 apples, and Mary has 5 bananas.\n",
      "The phone number for the store is (555) 123-4567.\n",
      "\n"
     ]
    }
   ],
   "source": [
    "import re\n",
    "with open(\"../RegularExpText.txt\",\"r\") as f:\n",
    "    text = f.read()\n",
    "print(text)\n"
   ]
  },
  {
   "cell_type": "code",
   "execution_count": null,
   "metadata": {},
   "outputs": [
    {
     "name": "stdout",
     "output_type": "stream",
     "text": [
      "contact@company.com\n",
      "support@company.com\n",
      "lastname@company.com\n",
      "initialsurname@company.com\n",
      "newsletter@company.com\n"
     ]
    }
   ],
   "source": [
    "pattern = r\"(\\w+)(@\\w+\\.\\w+)\"\n",
    "for item in re.finditer(pattern,text):\n",
    "    print(item.group())"
   ]
  },
  {
   "cell_type": "code",
   "execution_count": null,
   "metadata": {},
   "outputs": [
    {
     "name": "stdout",
     "output_type": "stream",
     "text": [
      "{'title': 'contact', 'type': '@company.com'}\n",
      "{'title': 'support', 'type': '@company.com'}\n",
      "{'title': 'lastname', 'type': '@company.com'}\n",
      "{'title': 'initialsurname', 'type': '@company.com'}\n",
      "{'title': 'newsletter', 'type': '@company.com'}\n"
     ]
    }
   ],
   "source": [
    "pattern = r\"(?P<title>\\w+)(?P<type>@\\w+\\.\\w+)\"\n",
    "for item in re.finditer(pattern,text):\n",
    "    print(item.groupdict())"
   ]
  },
  {
   "cell_type": "code",
   "execution_count": null,
   "metadata": {},
   "outputs": [
    {
     "name": "stdout",
     "output_type": "stream",
     "text": [
      "{'title': 'contact'}\n",
      "{'title': 'support'}\n",
      "{'title': 'lastname'}\n",
      "{'title': 'initialsurname'}\n",
      "{'title': 'newsletter'}\n"
     ]
    }
   ],
   "source": [
    "pattern = r\"(?P<title>\\w+)(?=@\\w+\\.\\w+)\"\n",
    "for item in re.finditer(pattern,text):\n",
    "    print(item.groupdict())"
   ]
  },
  {
   "cell_type": "code",
   "execution_count": null,
   "metadata": {},
   "outputs": [
    {
     "name": "stdout",
     "output_type": "stream",
     "text": [
      "contact\n",
      "support\n",
      "lastname\n",
      "initialsurname\n",
      "newsletter\n"
     ]
    }
   ],
   "source": [
    "pattern = r\"(?P<title>\\w+)(?=@\\w+\\.\\w+)\"\n",
    "for item in re.finditer(pattern,text):\n",
    "    print(item.group())"
   ]
  },
  {
   "cell_type": "code",
   "execution_count": null,
   "metadata": {},
   "outputs": [],
   "source": []
  },
  {
   "attachments": {},
   "cell_type": "markdown",
   "metadata": {},
   "source": [
    "# Back to the pandas"
   ]
  },
  {
   "cell_type": "code",
   "execution_count": 2,
   "metadata": {},
   "outputs": [],
   "source": [
    "import numpy as np\n",
    "import pandas as pd"
   ]
  },
  {
   "cell_type": "code",
   "execution_count": 3,
   "metadata": {},
   "outputs": [],
   "source": [
    "df = pd.read_csv(\"../movies/movies.csv\")"
   ]
  },
  {
   "cell_type": "code",
   "execution_count": 4,
   "metadata": {},
   "outputs": [
    {
     "data": {
      "text/html": [
       "<div>\n",
       "<style scoped>\n",
       "    .dataframe tbody tr th:only-of-type {\n",
       "        vertical-align: middle;\n",
       "    }\n",
       "\n",
       "    .dataframe tbody tr th {\n",
       "        vertical-align: top;\n",
       "    }\n",
       "\n",
       "    .dataframe thead th {\n",
       "        text-align: right;\n",
       "    }\n",
       "</style>\n",
       "<table border=\"1\" class=\"dataframe\">\n",
       "  <thead>\n",
       "    <tr style=\"text-align: right;\">\n",
       "      <th></th>\n",
       "      <th>RATING</th>\n",
       "      <th>RunTime</th>\n",
       "    </tr>\n",
       "  </thead>\n",
       "  <tbody>\n",
       "    <tr>\n",
       "      <th>count</th>\n",
       "      <td>8179.000000</td>\n",
       "      <td>7041.000000</td>\n",
       "    </tr>\n",
       "    <tr>\n",
       "      <th>mean</th>\n",
       "      <td>6.921176</td>\n",
       "      <td>68.688539</td>\n",
       "    </tr>\n",
       "    <tr>\n",
       "      <th>std</th>\n",
       "      <td>1.220232</td>\n",
       "      <td>47.258056</td>\n",
       "    </tr>\n",
       "    <tr>\n",
       "      <th>min</th>\n",
       "      <td>1.100000</td>\n",
       "      <td>1.000000</td>\n",
       "    </tr>\n",
       "    <tr>\n",
       "      <th>25%</th>\n",
       "      <td>6.200000</td>\n",
       "      <td>36.000000</td>\n",
       "    </tr>\n",
       "    <tr>\n",
       "      <th>50%</th>\n",
       "      <td>7.100000</td>\n",
       "      <td>60.000000</td>\n",
       "    </tr>\n",
       "    <tr>\n",
       "      <th>75%</th>\n",
       "      <td>7.800000</td>\n",
       "      <td>95.000000</td>\n",
       "    </tr>\n",
       "    <tr>\n",
       "      <th>max</th>\n",
       "      <td>9.900000</td>\n",
       "      <td>853.000000</td>\n",
       "    </tr>\n",
       "  </tbody>\n",
       "</table>\n",
       "</div>"
      ],
      "text/plain": [
       "            RATING      RunTime\n",
       "count  8179.000000  7041.000000\n",
       "mean      6.921176    68.688539\n",
       "std       1.220232    47.258056\n",
       "min       1.100000     1.000000\n",
       "25%       6.200000    36.000000\n",
       "50%       7.100000    60.000000\n",
       "75%       7.800000    95.000000\n",
       "max       9.900000   853.000000"
      ]
     },
     "execution_count": 4,
     "metadata": {},
     "output_type": "execute_result"
    }
   ],
   "source": [
    "df.describe()"
   ]
  },
  {
   "cell_type": "code",
   "execution_count": null,
   "metadata": {},
   "outputs": [
    {
     "name": "stdout",
     "output_type": "stream",
     "text": [
      "<class 'pandas.core.frame.DataFrame'>\n",
      "RangeIndex: 9999 entries, 0 to 9998\n",
      "Data columns (total 9 columns):\n",
      " #   Column    Non-Null Count  Dtype  \n",
      "---  ------    --------------  -----  \n",
      " 0   MOVIES    9999 non-null   object \n",
      " 1   YEAR      9355 non-null   object \n",
      " 2   GENRE     9919 non-null   object \n",
      " 3   RATING    8179 non-null   float64\n",
      " 4   ONE-LINE  9999 non-null   object \n",
      " 5   STARS     9999 non-null   object \n",
      " 6   VOTES     8179 non-null   object \n",
      " 7   RunTime   7041 non-null   float64\n",
      " 8   Gross     460 non-null    object \n",
      "dtypes: float64(2), object(7)\n",
      "memory usage: 703.2+ KB\n"
     ]
    }
   ],
   "source": [
    "df.info()"
   ]
  },
  {
   "cell_type": "code",
   "execution_count": 5,
   "metadata": {},
   "outputs": [
    {
     "data": {
      "text/plain": [
       "Index(['MOVIES', 'YEAR', 'GENRE', 'RATING', 'ONE-LINE', 'STARS', 'VOTES',\n",
       "       'RunTime', 'Gross'],\n",
       "      dtype='object')"
      ]
     },
     "execution_count": 5,
     "metadata": {},
     "output_type": "execute_result"
    }
   ],
   "source": [
    "df.columns"
   ]
  },
  {
   "cell_type": "code",
   "execution_count": 6,
   "metadata": {},
   "outputs": [],
   "source": [
    "df = df[df[\"Gross\"].notna()]"
   ]
  },
  {
   "cell_type": "code",
   "execution_count": 7,
   "metadata": {},
   "outputs": [
    {
     "data": {
      "text/plain": [
       "Index(['MOVIES', 'YEAR', 'GENRE', 'RATING', 'ONE-LINE', 'STARS', 'VOTES',\n",
       "       'RunTime', 'Gross'],\n",
       "      dtype='object')"
      ]
     },
     "execution_count": 7,
     "metadata": {},
     "output_type": "execute_result"
    }
   ],
   "source": [
    "df.columns"
   ]
  },
  {
   "cell_type": "code",
   "execution_count": 8,
   "metadata": {},
   "outputs": [
    {
     "data": {
      "text/html": [
       "<div>\n",
       "<style scoped>\n",
       "    .dataframe tbody tr th:only-of-type {\n",
       "        vertical-align: middle;\n",
       "    }\n",
       "\n",
       "    .dataframe tbody tr th {\n",
       "        vertical-align: top;\n",
       "    }\n",
       "\n",
       "    .dataframe thead th {\n",
       "        text-align: right;\n",
       "    }\n",
       "</style>\n",
       "<table border=\"1\" class=\"dataframe\">\n",
       "  <thead>\n",
       "    <tr style=\"text-align: right;\">\n",
       "      <th></th>\n",
       "      <th>MOVIES</th>\n",
       "      <th>YEAR</th>\n",
       "      <th>GENRE</th>\n",
       "      <th>RATING</th>\n",
       "      <th>ONE-LINE</th>\n",
       "      <th>STARS</th>\n",
       "      <th>VOTES</th>\n",
       "      <th>RunTime</th>\n",
       "      <th>Gross</th>\n",
       "    </tr>\n",
       "  </thead>\n",
       "  <tbody>\n",
       "    <tr>\n",
       "      <th>77</th>\n",
       "      <td>The Hitman's Bodyguard</td>\n",
       "      <td>(2017)</td>\n",
       "      <td>\\r\\nAction, Comedy, Crime</td>\n",
       "      <td>6.9</td>\n",
       "      <td>\\r\\nThe world's top bodyguard gets a new clien...</td>\n",
       "      <td>\\r\\n    Director:\\r\\nPatrick Hughes\\r\\n| \\r\\n ...</td>\n",
       "      <td>205,979</td>\n",
       "      <td>118.0</td>\n",
       "      <td>$75.47M</td>\n",
       "    </tr>\n",
       "    <tr>\n",
       "      <th>85</th>\n",
       "      <td>Jurassic Park</td>\n",
       "      <td>(1993)</td>\n",
       "      <td>\\r\\nAction, Adventure, Sci-Fi</td>\n",
       "      <td>8.1</td>\n",
       "      <td>\\r\\nA pragmatic paleontologist visiting an alm...</td>\n",
       "      <td>\\r\\n    Director:\\r\\nSteven Spielberg\\r\\n| \\r\\...</td>\n",
       "      <td>897,444</td>\n",
       "      <td>127.0</td>\n",
       "      <td>$402.45M</td>\n",
       "    </tr>\n",
       "    <tr>\n",
       "      <th>95</th>\n",
       "      <td>Don't Breathe</td>\n",
       "      <td>(2016)</td>\n",
       "      <td>\\r\\nCrime, Horror, Thriller</td>\n",
       "      <td>7.1</td>\n",
       "      <td>\\r\\nHoping to walk away with a massive fortune...</td>\n",
       "      <td>\\r\\n    Director:\\r\\nFede Alvarez\\r\\n| \\r\\n   ...</td>\n",
       "      <td>237,601</td>\n",
       "      <td>88.0</td>\n",
       "      <td>$89.22M</td>\n",
       "    </tr>\n",
       "    <tr>\n",
       "      <th>111</th>\n",
       "      <td>The Lord of the Rings: The Fellowship of the Ring</td>\n",
       "      <td>(2001)</td>\n",
       "      <td>\\r\\nAction, Adventure, Drama</td>\n",
       "      <td>8.8</td>\n",
       "      <td>\\r\\nA meek Hobbit from the Shire and eight com...</td>\n",
       "      <td>\\r\\n    Director:\\r\\nPeter Jackson\\r\\n| \\r\\n  ...</td>\n",
       "      <td>1,713,028</td>\n",
       "      <td>178.0</td>\n",
       "      <td>$315.54M</td>\n",
       "    </tr>\n",
       "    <tr>\n",
       "      <th>125</th>\n",
       "      <td>Escape Room</td>\n",
       "      <td>(I) (2019)</td>\n",
       "      <td>\\r\\nAction, Adventure, Horror</td>\n",
       "      <td>6.4</td>\n",
       "      <td>\\r\\nSix strangers find themselves in a maze of...</td>\n",
       "      <td>\\r\\n    Director:\\r\\nAdam Robitel\\r\\n| \\r\\n   ...</td>\n",
       "      <td>99,351</td>\n",
       "      <td>99.0</td>\n",
       "      <td>$57.01M</td>\n",
       "    </tr>\n",
       "  </tbody>\n",
       "</table>\n",
       "</div>"
      ],
      "text/plain": [
       "                                                MOVIES        YEAR  \\\n",
       "77                              The Hitman's Bodyguard      (2017)   \n",
       "85                                       Jurassic Park      (1993)   \n",
       "95                                       Don't Breathe      (2016)   \n",
       "111  The Lord of the Rings: The Fellowship of the Ring      (2001)   \n",
       "125                                        Escape Room  (I) (2019)   \n",
       "\n",
       "                                         GENRE  RATING  \\\n",
       "77       \\r\\nAction, Comedy, Crime                 6.9   \n",
       "85   \\r\\nAction, Adventure, Sci-Fi                 8.1   \n",
       "95     \\r\\nCrime, Horror, Thriller                 7.1   \n",
       "111   \\r\\nAction, Adventure, Drama                 8.8   \n",
       "125  \\r\\nAction, Adventure, Horror                 6.4   \n",
       "\n",
       "                                              ONE-LINE  \\\n",
       "77   \\r\\nThe world's top bodyguard gets a new clien...   \n",
       "85   \\r\\nA pragmatic paleontologist visiting an alm...   \n",
       "95   \\r\\nHoping to walk away with a massive fortune...   \n",
       "111  \\r\\nA meek Hobbit from the Shire and eight com...   \n",
       "125  \\r\\nSix strangers find themselves in a maze of...   \n",
       "\n",
       "                                                 STARS      VOTES  RunTime  \\\n",
       "77   \\r\\n    Director:\\r\\nPatrick Hughes\\r\\n| \\r\\n ...    205,979    118.0   \n",
       "85   \\r\\n    Director:\\r\\nSteven Spielberg\\r\\n| \\r\\...    897,444    127.0   \n",
       "95   \\r\\n    Director:\\r\\nFede Alvarez\\r\\n| \\r\\n   ...    237,601     88.0   \n",
       "111  \\r\\n    Director:\\r\\nPeter Jackson\\r\\n| \\r\\n  ...  1,713,028    178.0   \n",
       "125  \\r\\n    Director:\\r\\nAdam Robitel\\r\\n| \\r\\n   ...     99,351     99.0   \n",
       "\n",
       "        Gross  \n",
       "77    $75.47M  \n",
       "85   $402.45M  \n",
       "95    $89.22M  \n",
       "111  $315.54M  \n",
       "125   $57.01M  "
      ]
     },
     "execution_count": 8,
     "metadata": {},
     "output_type": "execute_result"
    }
   ],
   "source": [
    "df.head()"
   ]
  },
  {
   "cell_type": "code",
   "execution_count": 9,
   "metadata": {},
   "outputs": [
    {
     "data": {
      "text/plain": [
       "numpy.float64"
      ]
     },
     "execution_count": 9,
     "metadata": {},
     "output_type": "execute_result"
    }
   ],
   "source": [
    "type(df.loc[77,\"RATING\"])"
   ]
  },
  {
   "cell_type": "code",
   "execution_count": 10,
   "metadata": {},
   "outputs": [
    {
     "name": "stdout",
     "output_type": "stream",
     "text": [
      "<class 'pandas.core.frame.DataFrame'>\n",
      "Int64Index: 460 entries, 77 to 6292\n",
      "Data columns (total 9 columns):\n",
      " #   Column    Non-Null Count  Dtype  \n",
      "---  ------    --------------  -----  \n",
      " 0   MOVIES    460 non-null    object \n",
      " 1   YEAR      460 non-null    object \n",
      " 2   GENRE     460 non-null    object \n",
      " 3   RATING    460 non-null    float64\n",
      " 4   ONE-LINE  460 non-null    object \n",
      " 5   STARS     460 non-null    object \n",
      " 6   VOTES     460 non-null    object \n",
      " 7   RunTime   460 non-null    float64\n",
      " 8   Gross     460 non-null    object \n",
      "dtypes: float64(2), object(7)\n",
      "memory usage: 52.1+ KB\n"
     ]
    }
   ],
   "source": [
    "df.info()"
   ]
  },
  {
   "cell_type": "code",
   "execution_count": 12,
   "metadata": {},
   "outputs": [],
   "source": [
    "df = df.sort_values(\"RATING\",ascending=False)"
   ]
  },
  {
   "cell_type": "code",
   "execution_count": 22,
   "metadata": {},
   "outputs": [
    {
     "data": {
      "text/plain": [
       "193     $377.85M\n",
       "111     $315.54M\n",
       "260     $342.55M\n",
       "3242      $0.02M\n",
       "237      $10.06M\n",
       "Name: Gross, dtype: object"
      ]
     },
     "execution_count": 22,
     "metadata": {},
     "output_type": "execute_result"
    }
   ],
   "source": [
    "df[\"Gross\"][df[\"RATING\"]>8.5]"
   ]
  },
  {
   "cell_type": "code",
   "execution_count": 23,
   "metadata": {},
   "outputs": [
    {
     "data": {
      "text/html": [
       "<div>\n",
       "<style scoped>\n",
       "    .dataframe tbody tr th:only-of-type {\n",
       "        vertical-align: middle;\n",
       "    }\n",
       "\n",
       "    .dataframe tbody tr th {\n",
       "        vertical-align: top;\n",
       "    }\n",
       "\n",
       "    .dataframe thead th {\n",
       "        text-align: right;\n",
       "    }\n",
       "</style>\n",
       "<table border=\"1\" class=\"dataframe\">\n",
       "  <thead>\n",
       "    <tr style=\"text-align: right;\">\n",
       "      <th></th>\n",
       "      <th>MOVIES</th>\n",
       "      <th>YEAR</th>\n",
       "      <th>GENRE</th>\n",
       "      <th>RATING</th>\n",
       "      <th>ONE-LINE</th>\n",
       "      <th>STARS</th>\n",
       "      <th>VOTES</th>\n",
       "      <th>RunTime</th>\n",
       "      <th>Gross</th>\n",
       "    </tr>\n",
       "  </thead>\n",
       "  <tbody>\n",
       "    <tr>\n",
       "      <th>193</th>\n",
       "      <td>The Lord of the Rings: The Return of the King</td>\n",
       "      <td>(2003)</td>\n",
       "      <td>\\r\\nAction, Adventure, Drama</td>\n",
       "      <td>8.9</td>\n",
       "      <td>\\r\\nGandalf and Aragorn lead the World of Men ...</td>\n",
       "      <td>\\r\\n    Director:\\r\\nPeter Jackson\\r\\n| \\r\\n  ...</td>\n",
       "      <td>1,691,777</td>\n",
       "      <td>201.0</td>\n",
       "      <td>$377.85M</td>\n",
       "    </tr>\n",
       "    <tr>\n",
       "      <th>111</th>\n",
       "      <td>The Lord of the Rings: The Fellowship of the Ring</td>\n",
       "      <td>(2001)</td>\n",
       "      <td>\\r\\nAction, Adventure, Drama</td>\n",
       "      <td>8.8</td>\n",
       "      <td>\\r\\nA meek Hobbit from the Shire and eight com...</td>\n",
       "      <td>\\r\\n    Director:\\r\\nPeter Jackson\\r\\n| \\r\\n  ...</td>\n",
       "      <td>1,713,028</td>\n",
       "      <td>178.0</td>\n",
       "      <td>$315.54M</td>\n",
       "    </tr>\n",
       "    <tr>\n",
       "      <th>260</th>\n",
       "      <td>The Lord of the Rings: The Two Towers</td>\n",
       "      <td>(2002)</td>\n",
       "      <td>\\r\\nAction, Adventure, Drama</td>\n",
       "      <td>8.7</td>\n",
       "      <td>\\r\\nWhile Frodo and Sam edge closer to Mordor ...</td>\n",
       "      <td>\\r\\n    Director:\\r\\nPeter Jackson\\r\\n| \\r\\n  ...</td>\n",
       "      <td>1,529,752</td>\n",
       "      <td>179.0</td>\n",
       "      <td>$342.55M</td>\n",
       "    </tr>\n",
       "    <tr>\n",
       "      <th>3242</th>\n",
       "      <td>Be Here Now</td>\n",
       "      <td>(2015)</td>\n",
       "      <td>\\r\\nDocumentary, Biography, Drama</td>\n",
       "      <td>8.6</td>\n",
       "      <td>\\r\\nAs though life is imitating art, actor and...</td>\n",
       "      <td>\\r\\n    Director:\\r\\nLilibet Foster\\r\\n| \\r\\n ...</td>\n",
       "      <td>3,288</td>\n",
       "      <td>100.0</td>\n",
       "      <td>$0.02M</td>\n",
       "    </tr>\n",
       "    <tr>\n",
       "      <th>237</th>\n",
       "      <td>Sen to Chihiro no kamikakushi</td>\n",
       "      <td>(2001)</td>\n",
       "      <td>\\r\\nAnimation, Adventure, Family</td>\n",
       "      <td>8.6</td>\n",
       "      <td>\\r\\nDuring her family's move to the suburbs, a...</td>\n",
       "      <td>\\r\\n    Director:\\r\\nHayao Miyazaki\\r\\n| \\r\\n ...</td>\n",
       "      <td>682,809</td>\n",
       "      <td>125.0</td>\n",
       "      <td>$10.06M</td>\n",
       "    </tr>\n",
       "  </tbody>\n",
       "</table>\n",
       "</div>"
      ],
      "text/plain": [
       "                                                 MOVIES    YEAR  \\\n",
       "193       The Lord of the Rings: The Return of the King  (2003)   \n",
       "111   The Lord of the Rings: The Fellowship of the Ring  (2001)   \n",
       "260               The Lord of the Rings: The Two Towers  (2002)   \n",
       "3242                                        Be Here Now  (2015)   \n",
       "237                       Sen to Chihiro no kamikakushi  (2001)   \n",
       "\n",
       "                                              GENRE  RATING  \\\n",
       "193        \\r\\nAction, Adventure, Drama                 8.9   \n",
       "111        \\r\\nAction, Adventure, Drama                 8.8   \n",
       "260        \\r\\nAction, Adventure, Drama                 8.7   \n",
       "3242  \\r\\nDocumentary, Biography, Drama                 8.6   \n",
       "237    \\r\\nAnimation, Adventure, Family                 8.6   \n",
       "\n",
       "                                               ONE-LINE  \\\n",
       "193   \\r\\nGandalf and Aragorn lead the World of Men ...   \n",
       "111   \\r\\nA meek Hobbit from the Shire and eight com...   \n",
       "260   \\r\\nWhile Frodo and Sam edge closer to Mordor ...   \n",
       "3242  \\r\\nAs though life is imitating art, actor and...   \n",
       "237   \\r\\nDuring her family's move to the suburbs, a...   \n",
       "\n",
       "                                                  STARS      VOTES  RunTime  \\\n",
       "193   \\r\\n    Director:\\r\\nPeter Jackson\\r\\n| \\r\\n  ...  1,691,777    201.0   \n",
       "111   \\r\\n    Director:\\r\\nPeter Jackson\\r\\n| \\r\\n  ...  1,713,028    178.0   \n",
       "260   \\r\\n    Director:\\r\\nPeter Jackson\\r\\n| \\r\\n  ...  1,529,752    179.0   \n",
       "3242  \\r\\n    Director:\\r\\nLilibet Foster\\r\\n| \\r\\n ...      3,288    100.0   \n",
       "237   \\r\\n    Director:\\r\\nHayao Miyazaki\\r\\n| \\r\\n ...    682,809    125.0   \n",
       "\n",
       "         Gross  \n",
       "193   $377.85M  \n",
       "111   $315.54M  \n",
       "260   $342.55M  \n",
       "3242    $0.02M  \n",
       "237    $10.06M  "
      ]
     },
     "execution_count": 23,
     "metadata": {},
     "output_type": "execute_result"
    }
   ],
   "source": [
    "df.head()"
   ]
  },
  {
   "cell_type": "code",
   "execution_count": 1,
   "metadata": {},
   "outputs": [],
   "source": [
    "import pandas as pd\n",
    "sdata = {'Ohio': 35000, 'Texas': 71000, 'Oregon': 16000, 'Utah': 5000}\n",
    "obj1 = pd.Series(sdata)\n",
    "states = ['California', 'Ohio', 'Oregon', 'Texas']\n",
    "obj2 = pd.Series(sdata, index=states)\n",
    "obj3 = pd.isnull(obj2)"
   ]
  },
  {
   "cell_type": "code",
   "execution_count": 2,
   "metadata": {},
   "outputs": [
    {
     "data": {
      "text/plain": [
       "Ohio      35000\n",
       "Texas     71000\n",
       "Oregon    16000\n",
       "Utah       5000\n",
       "dtype: int64"
      ]
     },
     "execution_count": 2,
     "metadata": {},
     "output_type": "execute_result"
    }
   ],
   "source": [
    "obj1"
   ]
  },
  {
   "cell_type": "code",
   "execution_count": 3,
   "metadata": {},
   "outputs": [
    {
     "data": {
      "text/plain": [
       "California        NaN\n",
       "Ohio          35000.0\n",
       "Oregon        16000.0\n",
       "Texas         71000.0\n",
       "dtype: float64"
      ]
     },
     "execution_count": 3,
     "metadata": {},
     "output_type": "execute_result"
    }
   ],
   "source": [
    "obj2"
   ]
  },
  {
   "cell_type": "code",
   "execution_count": 4,
   "metadata": {},
   "outputs": [
    {
     "data": {
      "text/plain": [
       "California     True\n",
       "Ohio          False\n",
       "Oregon        False\n",
       "Texas         False\n",
       "dtype: bool"
      ]
     },
     "execution_count": 4,
     "metadata": {},
     "output_type": "execute_result"
    }
   ],
   "source": [
    "obj3"
   ]
  },
  {
   "cell_type": "code",
   "execution_count": 5,
   "metadata": {},
   "outputs": [
    {
     "data": {
      "text/plain": [
       "True"
      ]
     },
     "execution_count": 5,
     "metadata": {},
     "output_type": "execute_result"
    }
   ],
   "source": [
    "x = obj2['California']\n",
    "obj2['California'] != x"
   ]
  },
  {
   "cell_type": "code",
   "execution_count": 6,
   "metadata": {},
   "outputs": [
    {
     "data": {
      "text/plain": [
       "False"
      ]
     },
     "execution_count": 6,
     "metadata": {},
     "output_type": "execute_result"
    }
   ],
   "source": [
    "obj2['California'] == None"
   ]
  },
  {
   "cell_type": "code",
   "execution_count": null,
   "metadata": {},
   "outputs": [],
   "source": []
  }
 ],
 "metadata": {
  "kernelspec": {
   "display_name": "Python 3",
   "language": "python",
   "name": "python3"
  },
  "language_info": {
   "codemirror_mode": {
    "name": "ipython",
    "version": 3
   },
   "file_extension": ".py",
   "mimetype": "text/x-python",
   "name": "python",
   "nbconvert_exporter": "python",
   "pygments_lexer": "ipython3",
   "version": "3.10.10"
  },
  "orig_nbformat": 4
 },
 "nbformat": 4,
 "nbformat_minor": 2
}
