{
 "cells": [
  {
   "cell_type": "code",
   "execution_count": 25,
   "metadata": {},
   "outputs": [
    {
     "name": "stdout",
     "output_type": "stream",
     "text": [
      "hello\n"
     ]
    }
   ],
   "source": [
    "print(\"hello\")"
   ]
  },
  {
   "cell_type": "code",
   "execution_count": 26,
   "metadata": {},
   "outputs": [
    {
     "name": "stdout",
     "output_type": "stream",
     "text": [
      "shyam commited\n"
     ]
    }
   ],
   "source": [
    "print(\"shyam commited\")"
   ]
  },
  {
   "cell_type": "code",
   "execution_count": 27,
   "metadata": {},
   "outputs": [],
   "source": [
    "import numpy as np\n",
    "import pandas as pd"
   ]
  },
  {
   "cell_type": "code",
   "execution_count": 28,
   "metadata": {},
   "outputs": [],
   "source": [
    "df = pd.read_csv(\"../movies/movies.csv\")"
   ]
  },
  {
   "cell_type": "code",
   "execution_count": 29,
   "metadata": {},
   "outputs": [
    {
     "data": {
      "text/html": [
       "<div>\n",
       "<style scoped>\n",
       "    .dataframe tbody tr th:only-of-type {\n",
       "        vertical-align: middle;\n",
       "    }\n",
       "\n",
       "    .dataframe tbody tr th {\n",
       "        vertical-align: top;\n",
       "    }\n",
       "\n",
       "    .dataframe thead th {\n",
       "        text-align: right;\n",
       "    }\n",
       "</style>\n",
       "<table border=\"1\" class=\"dataframe\">\n",
       "  <thead>\n",
       "    <tr style=\"text-align: right;\">\n",
       "      <th></th>\n",
       "      <th>MOVIES</th>\n",
       "      <th>YEAR</th>\n",
       "      <th>GENRE</th>\n",
       "      <th>RATING</th>\n",
       "      <th>ONE-LINE</th>\n",
       "      <th>STARS</th>\n",
       "      <th>VOTES</th>\n",
       "      <th>RunTime</th>\n",
       "      <th>Gross</th>\n",
       "    </tr>\n",
       "  </thead>\n",
       "  <tbody>\n",
       "    <tr>\n",
       "      <th>0</th>\n",
       "      <td>Blood Red Sky</td>\n",
       "      <td>(2021)</td>\n",
       "      <td>\\r\\nAction, Horror, Thriller</td>\n",
       "      <td>6.1</td>\n",
       "      <td>\\r\\nA woman with a mysterious illness is force...</td>\n",
       "      <td>\\r\\n    Director:\\r\\nPeter Thorwarth\\r\\n| \\r\\n...</td>\n",
       "      <td>21,062</td>\n",
       "      <td>121.0</td>\n",
       "      <td>NaN</td>\n",
       "    </tr>\n",
       "    <tr>\n",
       "      <th>1</th>\n",
       "      <td>Masters of the Universe: Revelation</td>\n",
       "      <td>(2021– )</td>\n",
       "      <td>\\r\\nAnimation, Action, Adventure</td>\n",
       "      <td>5.0</td>\n",
       "      <td>\\r\\nThe war for Eternia begins again in what m...</td>\n",
       "      <td>\\r\\n            \\r\\n    Stars:\\r\\nChris Wood, ...</td>\n",
       "      <td>17,870</td>\n",
       "      <td>25.0</td>\n",
       "      <td>NaN</td>\n",
       "    </tr>\n",
       "    <tr>\n",
       "      <th>2</th>\n",
       "      <td>The Walking Dead</td>\n",
       "      <td>(2010–2022)</td>\n",
       "      <td>\\r\\nDrama, Horror, Thriller</td>\n",
       "      <td>8.2</td>\n",
       "      <td>\\r\\nSheriff Deputy Rick Grimes wakes up from a...</td>\n",
       "      <td>\\r\\n            \\r\\n    Stars:\\r\\nAndrew Linco...</td>\n",
       "      <td>885,805</td>\n",
       "      <td>44.0</td>\n",
       "      <td>NaN</td>\n",
       "    </tr>\n",
       "    <tr>\n",
       "      <th>3</th>\n",
       "      <td>Rick and Morty</td>\n",
       "      <td>(2013– )</td>\n",
       "      <td>\\r\\nAnimation, Adventure, Comedy</td>\n",
       "      <td>9.2</td>\n",
       "      <td>\\r\\nAn animated series that follows the exploi...</td>\n",
       "      <td>\\r\\n            \\r\\n    Stars:\\r\\nJustin Roila...</td>\n",
       "      <td>414,849</td>\n",
       "      <td>23.0</td>\n",
       "      <td>NaN</td>\n",
       "    </tr>\n",
       "    <tr>\n",
       "      <th>4</th>\n",
       "      <td>Army of Thieves</td>\n",
       "      <td>(2021)</td>\n",
       "      <td>\\r\\nAction, Crime, Horror</td>\n",
       "      <td>NaN</td>\n",
       "      <td>\\r\\nA prequel, set before the events of Army o...</td>\n",
       "      <td>\\r\\n    Director:\\r\\nMatthias Schweighöfer\\r\\n...</td>\n",
       "      <td>NaN</td>\n",
       "      <td>NaN</td>\n",
       "      <td>NaN</td>\n",
       "    </tr>\n",
       "  </tbody>\n",
       "</table>\n",
       "</div>"
      ],
      "text/plain": [
       "                                MOVIES         YEAR  \\\n",
       "0                        Blood Red Sky       (2021)   \n",
       "1  Masters of the Universe: Revelation     (2021– )   \n",
       "2                     The Walking Dead  (2010–2022)   \n",
       "3                       Rick and Morty     (2013– )   \n",
       "4                      Army of Thieves       (2021)   \n",
       "\n",
       "                                          GENRE  RATING  \\\n",
       "0      \\r\\nAction, Horror, Thriller                 6.1   \n",
       "1  \\r\\nAnimation, Action, Adventure                 5.0   \n",
       "2       \\r\\nDrama, Horror, Thriller                 8.2   \n",
       "3  \\r\\nAnimation, Adventure, Comedy                 9.2   \n",
       "4         \\r\\nAction, Crime, Horror                 NaN   \n",
       "\n",
       "                                            ONE-LINE  \\\n",
       "0  \\r\\nA woman with a mysterious illness is force...   \n",
       "1  \\r\\nThe war for Eternia begins again in what m...   \n",
       "2  \\r\\nSheriff Deputy Rick Grimes wakes up from a...   \n",
       "3  \\r\\nAn animated series that follows the exploi...   \n",
       "4  \\r\\nA prequel, set before the events of Army o...   \n",
       "\n",
       "                                               STARS    VOTES  RunTime Gross  \n",
       "0  \\r\\n    Director:\\r\\nPeter Thorwarth\\r\\n| \\r\\n...   21,062    121.0   NaN  \n",
       "1  \\r\\n            \\r\\n    Stars:\\r\\nChris Wood, ...   17,870     25.0   NaN  \n",
       "2  \\r\\n            \\r\\n    Stars:\\r\\nAndrew Linco...  885,805     44.0   NaN  \n",
       "3  \\r\\n            \\r\\n    Stars:\\r\\nJustin Roila...  414,849     23.0   NaN  \n",
       "4  \\r\\n    Director:\\r\\nMatthias Schweighöfer\\r\\n...      NaN      NaN   NaN  "
      ]
     },
     "execution_count": 29,
     "metadata": {},
     "output_type": "execute_result"
    }
   ],
   "source": [
    "df.head()"
   ]
  },
  {
   "cell_type": "code",
   "execution_count": 30,
   "metadata": {},
   "outputs": [
    {
     "data": {
      "text/plain": [
       "Index(['MOVIES', 'YEAR', 'GENRE', 'RATING', 'ONE-LINE', 'STARS', 'VOTES',\n",
       "       'RunTime', 'Gross'],\n",
       "      dtype='object')"
      ]
     },
     "execution_count": 30,
     "metadata": {},
     "output_type": "execute_result"
    }
   ],
   "source": [
    "df.columns"
   ]
  },
  {
   "cell_type": "code",
   "execution_count": 31,
   "metadata": {},
   "outputs": [
    {
     "data": {
      "text/plain": [
       "Index(['MOVIES', 'YEAR', 'GENRE', 'RATING', 'ONE-LINE', 'STARS', 'VOTES',\n",
       "       'RunTime', 'Gross'],\n",
       "      dtype='object')"
      ]
     },
     "execution_count": 31,
     "metadata": {},
     "output_type": "execute_result"
    }
   ],
   "source": [
    "df.columns"
   ]
  },
  {
   "cell_type": "code",
   "execution_count": 6,
   "metadata": {},
   "outputs": [
    {
     "name": "stdout",
     "output_type": "stream",
     "text": [
      "<class 'tuple'>\n",
      "[0.0, 0.5000000000000001, -3.141592653589793, 0.2928932188134523, -0.20710678118654746, -3.9269908169872414, 0.9999999999999998, -0.5, -4.71238898038469, 1.7071067811865475, -0.20710678118654768, -5.497787143782138, 2.0, 0.5, 0.0, 1.7071067811865475, 1.2071067811865475, -0.7853981633974483, 1.0, 1.5, -1.5707963267948966, 0.29289321881345254, 1.2071067811865475, -2.356194490192345]\n"
     ]
    }
   ],
   "source": [
    "import math\n",
    "\n",
    "\n",
    "radius = 1\n",
    "center = (1,0.5)\n",
    "\n",
    "# print(center)\n",
    "print(type(center))\n",
    "\n",
    "# Get the radius from the user\n",
    "\n",
    "l = []\n",
    "\n",
    "# Draw the circle using the polar circle algorithm\n",
    "for i in range(180,360,45):\n",
    "    angle = i * math.pi / 180\n",
    "    x = center[0] + radius * math.cos(angle)\n",
    "    y = center[1] + radius * math.sin(angle)\n",
    "  \n",
    "\n",
    "    l.extend([x, y, math.radians(-i)])\n",
    "for i in range(0,180,45):\n",
    "    angle = i * math.pi / 180\n",
    "    x = center[0] + radius * math.cos(angle)\n",
    "    y = center[1] + radius * math.sin(angle)\n",
    "    \n",
    "\n",
    "    l.extend([x, y, math.radians(-i)])\n",
    " \n",
    "print(l)\n",
    "\n"
   ]
  },
  {
   "cell_type": "code",
   "execution_count": 4,
   "metadata": {},
   "outputs": [],
   "source": [
    "import math\n",
    "from graphics import *\n",
    "import time\n",
    "\n",
    "# Set up the window and center point\n",
    "win = GraphWin(\"Polar Circle Algorithm\", 400, 400)\n",
    "center = Point(200, 200)\n",
    "\n",
    "# Get the radius from the user\n",
    "radius = int(input(\"Enter the radius of the circle: \"))\n",
    "\n",
    "# Draw the circle using the polar circle algorithm\n",
    "for i in range(180,360,45):\n",
    "    angle = i * math.pi / 180\n",
    "    x = center.getX() + radius * math.cos(angle)\n",
    "    y = center.getY() + radius * math.sin(angle)\n",
    "    circ = Circle(Point(x, y), 1)\n",
    "    circ.draw(win)\n",
    "    time.sleep(2)\n",
    "for i in range(0,180,45):\n",
    "    angle = i * math.pi / 180\n",
    "    x = center.getX() + radius * math.cos(angle)\n",
    "    y = center.getY() + radius * math.sin(angle)\n",
    "    circ = Circle(Point(x, y), 1)\n",
    "    circ.draw(win)\n",
    "    time.sleep(2)\n",
    "    \n",
    "\n",
    "# Wait for the user to click the window to close it\n",
    "win.getMouse()\n",
    "win.close()\n"
   ]
  },
  {
   "cell_type": "code",
   "execution_count": 1,
   "metadata": {},
   "outputs": [
    {
     "name": "stdout",
     "output_type": "stream",
     "text": [
      "0\n",
      "-1\n",
      "-2\n",
      "-3\n",
      "-4\n"
     ]
    }
   ],
   "source": [
    "for i in range(0, 5):\n",
    "    print(-i)"
   ]
  },
  {
   "attachments": {},
   "cell_type": "markdown",
   "metadata": {},
   "source": [
    "# Learning the regular expression"
   ]
  },
  {
   "cell_type": "code",
   "execution_count": 2,
   "metadata": {},
   "outputs": [],
   "source": [
    "import re"
   ]
  },
  {
   "cell_type": "code",
   "execution_count": 7,
   "metadata": {},
   "outputs": [
    {
     "name": "stdout",
     "output_type": "stream",
     "text": [
      "golishyamgolisai@gmail.com\n"
     ]
    }
   ],
   "source": [
    "pattern = r\"\\w+@\\w+\\.\\w+\"\n",
    "text = \"my email address is golishyamgolisai@gmail.com\"\n",
    "match = re.search(pattern,text)\n",
    "print(match.group())"
   ]
  },
  {
   "cell_type": "code",
   "execution_count": 8,
   "metadata": {},
   "outputs": [
    {
     "name": "stdout",
     "output_type": "stream",
     "text": [
      "Please email us at contact@company.com or support@company.com for any inquiries. \n",
      "Our employees can be reached at firstname.lastname@company.com or initialsurname@company.com. \n",
      "Don't forget to check your spam folder for emails from newsletter@company.com.\n",
      "\n"
     ]
    }
   ],
   "source": [
    "with open(\"../RegularExpText.txt\",\"r\") as f:\n",
    "    text = f.read()\n",
    "print(text)"
   ]
  },
  {
   "cell_type": "code",
   "execution_count": 17,
   "metadata": {},
   "outputs": [
    {
     "name": "stdout",
     "output_type": "stream",
     "text": [
      "['contact@company.com', 'support@company.com', 'lastname@company.com', 'initialsurname@company.com', 'newsletter@company.com']\n"
     ]
    }
   ],
   "source": [
    "pattern = \"\\w+@\\w+\\.\\w+\"\n",
    "match = re.findall(pattern,text)\n",
    "print(match)"
   ]
  },
  {
   "cell_type": "code",
   "execution_count": 18,
   "metadata": {},
   "outputs": [
    {
     "name": "stdout",
     "output_type": "stream",
     "text": [
      "Please email us at contact@company.com or support@company.com for any inquiries. \n",
      "Our employees can be reached at firstname.lastname@company.com or initialsurname@company.com. \n",
      "Don't forget to check your spam folder for emails from newsletter@company.com.\n",
      "\n",
      "The quick brown fox jumps over the lazy dog. \n",
      "It's a beautiful day today, isn't it?\n",
      "The cat in the hat sat on the mat.\n",
      "John has 3 apples, and Mary has 5 bananas.\n",
      "The phone number for the store is (555) 123-4567.\n",
      "\n"
     ]
    }
   ],
   "source": [
    "with open(\"../RegularExpText.txt\",\"r\") as f:\n",
    "    text = f.read()\n",
    "print(text)"
   ]
  },
  {
   "cell_type": "code",
   "execution_count": 22,
   "metadata": {},
   "outputs": [
    {
     "name": "stdout",
     "output_type": "stream",
     "text": [
      "['contact@company.com', 'support@company.com', 'lastname@company.com', 'initialsurname@company.com', 'newsletter@company.com', 'cat', 'hat', 'sat', 'mat', '(555) 123-4567']\n"
     ]
    }
   ],
   "source": [
    "pattern = r\"[a-z]+at|\\w+@\\w+\\.\\w+|\\([0-9]{3}\\) [0-9]{3}\\-[0-9]{4}\"\n",
    "match = re.findall(pattern, text)\n",
    "print(match)"
   ]
  },
  {
   "cell_type": "code",
   "execution_count": null,
   "metadata": {},
   "outputs": [],
   "source": []
  }
 ],
 "metadata": {
  "kernelspec": {
   "display_name": "Python 3",
   "language": "python",
   "name": "python3"
  },
  "language_info": {
   "codemirror_mode": {
    "name": "ipython",
    "version": 3
   },
   "file_extension": ".py",
   "mimetype": "text/x-python",
   "name": "python",
   "nbconvert_exporter": "python",
   "pygments_lexer": "ipython3",
   "version": "3.10.10"
  },
  "orig_nbformat": 4
 },
 "nbformat": 4,
 "nbformat_minor": 2
}
