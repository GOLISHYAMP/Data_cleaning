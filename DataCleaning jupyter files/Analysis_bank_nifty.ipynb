{
 "cells": [
  {
   "cell_type": "code",
   "execution_count": 44,
   "metadata": {},
   "outputs": [],
   "source": [
    "import pandas as pd\n",
    "import numpy as np\n"
   ]
  },
  {
   "cell_type": "code",
   "execution_count": 45,
   "metadata": {},
   "outputs": [],
   "source": [
    "df = pd.read_csv(\"../../Datasets/Banknifty/banknifty_data.csv\")"
   ]
  },
  {
   "cell_type": "code",
   "execution_count": 46,
   "metadata": {},
   "outputs": [
    {
     "name": "stdout",
     "output_type": "stream",
     "text": [
      "<class 'pandas.core.frame.DataFrame'>\n",
      "RangeIndex: 5569 entries, 0 to 5568\n",
      "Data columns (total 10 columns):\n",
      " #   Column      Non-Null Count  Dtype  \n",
      "---  ------      --------------  -----  \n",
      " 0   Unnamed: 0  5569 non-null   int64  \n",
      " 1   time        5569 non-null   object \n",
      " 2   open        5569 non-null   float64\n",
      " 3   high        5569 non-null   float64\n",
      " 4   low         5569 non-null   float64\n",
      " 5   close       5569 non-null   float64\n",
      " 6   weekday     5569 non-null   int64  \n",
      " 7   range_HL    5569 non-null   float64\n",
      " 8   range_OC    5569 non-null   float64\n",
      " 9   type        5569 non-null   object \n",
      "dtypes: float64(6), int64(2), object(2)\n",
      "memory usage: 435.2+ KB\n"
     ]
    }
   ],
   "source": [
    "df.info()"
   ]
  },
  {
   "cell_type": "code",
   "execution_count": 47,
   "metadata": {},
   "outputs": [
    {
     "data": {
      "text/plain": [
       "array(['Tie', 'bear', 'bull'], dtype=object)"
      ]
     },
     "execution_count": 47,
     "metadata": {},
     "output_type": "execute_result"
    }
   ],
   "source": [
    "df[\"type\"].unique()"
   ]
  },
  {
   "cell_type": "code",
   "execution_count": 48,
   "metadata": {},
   "outputs": [
    {
     "data": {
      "text/html": [
       "<div>\n",
       "<style scoped>\n",
       "    .dataframe tbody tr th:only-of-type {\n",
       "        vertical-align: middle;\n",
       "    }\n",
       "\n",
       "    .dataframe tbody tr th {\n",
       "        vertical-align: top;\n",
       "    }\n",
       "\n",
       "    .dataframe thead th {\n",
       "        text-align: right;\n",
       "    }\n",
       "</style>\n",
       "<table border=\"1\" class=\"dataframe\">\n",
       "  <thead>\n",
       "    <tr style=\"text-align: right;\">\n",
       "      <th></th>\n",
       "      <th>Unnamed: 0</th>\n",
       "      <th>time</th>\n",
       "      <th>open</th>\n",
       "      <th>high</th>\n",
       "      <th>low</th>\n",
       "      <th>close</th>\n",
       "      <th>weekday</th>\n",
       "      <th>range_HL</th>\n",
       "      <th>range_OC</th>\n",
       "      <th>type</th>\n",
       "    </tr>\n",
       "  </thead>\n",
       "  <tbody>\n",
       "    <tr>\n",
       "      <th>0</th>\n",
       "      <td>0</td>\n",
       "      <td>2000-01-03 09:15:00+05:30</td>\n",
       "      <td>1054.8101</td>\n",
       "      <td>1054.8101</td>\n",
       "      <td>1054.8101</td>\n",
       "      <td>1054.8101</td>\n",
       "      <td>0</td>\n",
       "      <td>0.0</td>\n",
       "      <td>0.0</td>\n",
       "      <td>Tie</td>\n",
       "    </tr>\n",
       "    <tr>\n",
       "      <th>1</th>\n",
       "      <td>1</td>\n",
       "      <td>2000-01-04 09:15:00+05:30</td>\n",
       "      <td>1092.0800</td>\n",
       "      <td>1092.0800</td>\n",
       "      <td>1092.0800</td>\n",
       "      <td>1092.0800</td>\n",
       "      <td>1</td>\n",
       "      <td>0.0</td>\n",
       "      <td>0.0</td>\n",
       "      <td>Tie</td>\n",
       "    </tr>\n",
       "    <tr>\n",
       "      <th>2</th>\n",
       "      <td>2</td>\n",
       "      <td>2000-01-05 09:15:00+05:30</td>\n",
       "      <td>1055.9900</td>\n",
       "      <td>1055.9900</td>\n",
       "      <td>1055.9900</td>\n",
       "      <td>1055.9900</td>\n",
       "      <td>2</td>\n",
       "      <td>0.0</td>\n",
       "      <td>0.0</td>\n",
       "      <td>Tie</td>\n",
       "    </tr>\n",
       "    <tr>\n",
       "      <th>3</th>\n",
       "      <td>3</td>\n",
       "      <td>2000-01-06 09:15:00+05:30</td>\n",
       "      <td>1086.6700</td>\n",
       "      <td>1086.6700</td>\n",
       "      <td>1086.6700</td>\n",
       "      <td>1086.6700</td>\n",
       "      <td>3</td>\n",
       "      <td>0.0</td>\n",
       "      <td>0.0</td>\n",
       "      <td>Tie</td>\n",
       "    </tr>\n",
       "    <tr>\n",
       "      <th>4</th>\n",
       "      <td>4</td>\n",
       "      <td>2000-01-07 09:15:00+05:30</td>\n",
       "      <td>1126.9900</td>\n",
       "      <td>1126.9900</td>\n",
       "      <td>1126.9900</td>\n",
       "      <td>1126.9900</td>\n",
       "      <td>4</td>\n",
       "      <td>0.0</td>\n",
       "      <td>0.0</td>\n",
       "      <td>Tie</td>\n",
       "    </tr>\n",
       "    <tr>\n",
       "      <th>...</th>\n",
       "      <td>...</td>\n",
       "      <td>...</td>\n",
       "      <td>...</td>\n",
       "      <td>...</td>\n",
       "      <td>...</td>\n",
       "      <td>...</td>\n",
       "      <td>...</td>\n",
       "      <td>...</td>\n",
       "      <td>...</td>\n",
       "      <td>...</td>\n",
       "    </tr>\n",
       "    <tr>\n",
       "      <th>1731</th>\n",
       "      <td>1731</td>\n",
       "      <td>2006-12-06 09:15:00+05:30</td>\n",
       "      <td>6213.8501</td>\n",
       "      <td>6213.8501</td>\n",
       "      <td>6213.8501</td>\n",
       "      <td>6213.8501</td>\n",
       "      <td>2</td>\n",
       "      <td>0.0</td>\n",
       "      <td>0.0</td>\n",
       "      <td>Tie</td>\n",
       "    </tr>\n",
       "    <tr>\n",
       "      <th>1732</th>\n",
       "      <td>1732</td>\n",
       "      <td>2006-12-07 09:15:00+05:30</td>\n",
       "      <td>6259.5000</td>\n",
       "      <td>6259.5000</td>\n",
       "      <td>6259.5000</td>\n",
       "      <td>6259.5000</td>\n",
       "      <td>3</td>\n",
       "      <td>0.0</td>\n",
       "      <td>0.0</td>\n",
       "      <td>Tie</td>\n",
       "    </tr>\n",
       "    <tr>\n",
       "      <th>1809</th>\n",
       "      <td>1809</td>\n",
       "      <td>2007-04-03 09:15:00+05:30</td>\n",
       "      <td>4995.1499</td>\n",
       "      <td>4995.1499</td>\n",
       "      <td>4995.1499</td>\n",
       "      <td>4995.1499</td>\n",
       "      <td>1</td>\n",
       "      <td>0.0</td>\n",
       "      <td>0.0</td>\n",
       "      <td>Tie</td>\n",
       "    </tr>\n",
       "    <tr>\n",
       "      <th>2085</th>\n",
       "      <td>2085</td>\n",
       "      <td>2008-05-12 09:15:00+05:30</td>\n",
       "      <td>7330.5498</td>\n",
       "      <td>7330.5498</td>\n",
       "      <td>7330.5498</td>\n",
       "      <td>7330.5498</td>\n",
       "      <td>0</td>\n",
       "      <td>0.0</td>\n",
       "      <td>0.0</td>\n",
       "      <td>Tie</td>\n",
       "    </tr>\n",
       "    <tr>\n",
       "      <th>2319</th>\n",
       "      <td>2319</td>\n",
       "      <td>2009-04-30 09:15:00+05:30</td>\n",
       "      <td>5130.9502</td>\n",
       "      <td>5130.9502</td>\n",
       "      <td>5130.9502</td>\n",
       "      <td>5130.9502</td>\n",
       "      <td>3</td>\n",
       "      <td>0.0</td>\n",
       "      <td>0.0</td>\n",
       "      <td>Tie</td>\n",
       "    </tr>\n",
       "  </tbody>\n",
       "</table>\n",
       "<p>1367 rows × 10 columns</p>\n",
       "</div>"
      ],
      "text/plain": [
       "      Unnamed: 0                       time       open       high        low  \\\n",
       "0              0  2000-01-03 09:15:00+05:30  1054.8101  1054.8101  1054.8101   \n",
       "1              1  2000-01-04 09:15:00+05:30  1092.0800  1092.0800  1092.0800   \n",
       "2              2  2000-01-05 09:15:00+05:30  1055.9900  1055.9900  1055.9900   \n",
       "3              3  2000-01-06 09:15:00+05:30  1086.6700  1086.6700  1086.6700   \n",
       "4              4  2000-01-07 09:15:00+05:30  1126.9900  1126.9900  1126.9900   \n",
       "...          ...                        ...        ...        ...        ...   \n",
       "1731        1731  2006-12-06 09:15:00+05:30  6213.8501  6213.8501  6213.8501   \n",
       "1732        1732  2006-12-07 09:15:00+05:30  6259.5000  6259.5000  6259.5000   \n",
       "1809        1809  2007-04-03 09:15:00+05:30  4995.1499  4995.1499  4995.1499   \n",
       "2085        2085  2008-05-12 09:15:00+05:30  7330.5498  7330.5498  7330.5498   \n",
       "2319        2319  2009-04-30 09:15:00+05:30  5130.9502  5130.9502  5130.9502   \n",
       "\n",
       "          close  weekday  range_HL  range_OC type  \n",
       "0     1054.8101        0       0.0       0.0  Tie  \n",
       "1     1092.0800        1       0.0       0.0  Tie  \n",
       "2     1055.9900        2       0.0       0.0  Tie  \n",
       "3     1086.6700        3       0.0       0.0  Tie  \n",
       "4     1126.9900        4       0.0       0.0  Tie  \n",
       "...         ...      ...       ...       ...  ...  \n",
       "1731  6213.8501        2       0.0       0.0  Tie  \n",
       "1732  6259.5000        3       0.0       0.0  Tie  \n",
       "1809  4995.1499        1       0.0       0.0  Tie  \n",
       "2085  7330.5498        0       0.0       0.0  Tie  \n",
       "2319  5130.9502        3       0.0       0.0  Tie  \n",
       "\n",
       "[1367 rows x 10 columns]"
      ]
     },
     "execution_count": 48,
     "metadata": {},
     "output_type": "execute_result"
    }
   ],
   "source": [
    "df[df[\"type\"] == \"Tie\"]"
   ]
  },
  {
   "cell_type": "code",
   "execution_count": 49,
   "metadata": {},
   "outputs": [
    {
     "data": {
      "text/html": [
       "<div>\n",
       "<style scoped>\n",
       "    .dataframe tbody tr th:only-of-type {\n",
       "        vertical-align: middle;\n",
       "    }\n",
       "\n",
       "    .dataframe tbody tr th {\n",
       "        vertical-align: top;\n",
       "    }\n",
       "\n",
       "    .dataframe thead th {\n",
       "        text-align: right;\n",
       "    }\n",
       "</style>\n",
       "<table border=\"1\" class=\"dataframe\">\n",
       "  <thead>\n",
       "    <tr style=\"text-align: right;\">\n",
       "      <th></th>\n",
       "      <th>Unnamed: 0</th>\n",
       "      <th>time</th>\n",
       "      <th>open</th>\n",
       "      <th>high</th>\n",
       "      <th>low</th>\n",
       "      <th>close</th>\n",
       "      <th>weekday</th>\n",
       "      <th>range_HL</th>\n",
       "      <th>range_OC</th>\n",
       "      <th>type</th>\n",
       "    </tr>\n",
       "  </thead>\n",
       "  <tbody>\n",
       "    <tr>\n",
       "      <th>1361</th>\n",
       "      <td>1361</td>\n",
       "      <td>2005-06-09 09:15:00+05:30</td>\n",
       "      <td>3659.8000</td>\n",
       "      <td>3664.4500</td>\n",
       "      <td>3609.7500</td>\n",
       "      <td>3636.5000</td>\n",
       "      <td>3</td>\n",
       "      <td>54.7000</td>\n",
       "      <td>23.3000</td>\n",
       "      <td>bear</td>\n",
       "    </tr>\n",
       "    <tr>\n",
       "      <th>1362</th>\n",
       "      <td>1362</td>\n",
       "      <td>2005-06-10 09:15:00+05:30</td>\n",
       "      <td>3640.0500</td>\n",
       "      <td>3665.8000</td>\n",
       "      <td>3585.8000</td>\n",
       "      <td>3593.5500</td>\n",
       "      <td>4</td>\n",
       "      <td>80.0000</td>\n",
       "      <td>46.5000</td>\n",
       "      <td>bear</td>\n",
       "    </tr>\n",
       "    <tr>\n",
       "      <th>1363</th>\n",
       "      <td>1363</td>\n",
       "      <td>2005-06-13 09:15:00+05:30</td>\n",
       "      <td>3593.8999</td>\n",
       "      <td>3648.3999</td>\n",
       "      <td>3556.7000</td>\n",
       "      <td>3642.8999</td>\n",
       "      <td>0</td>\n",
       "      <td>91.6999</td>\n",
       "      <td>49.0000</td>\n",
       "      <td>bull</td>\n",
       "    </tr>\n",
       "    <tr>\n",
       "      <th>1364</th>\n",
       "      <td>1364</td>\n",
       "      <td>2005-06-14 09:15:00+05:30</td>\n",
       "      <td>3649.0500</td>\n",
       "      <td>3696.3501</td>\n",
       "      <td>3637.7000</td>\n",
       "      <td>3689.8000</td>\n",
       "      <td>1</td>\n",
       "      <td>58.6501</td>\n",
       "      <td>40.7500</td>\n",
       "      <td>bull</td>\n",
       "    </tr>\n",
       "    <tr>\n",
       "      <th>1365</th>\n",
       "      <td>1365</td>\n",
       "      <td>2005-06-15 09:15:00+05:30</td>\n",
       "      <td>3700.8000</td>\n",
       "      <td>3703.7500</td>\n",
       "      <td>3662.8501</td>\n",
       "      <td>3683.8501</td>\n",
       "      <td>2</td>\n",
       "      <td>40.8999</td>\n",
       "      <td>16.9499</td>\n",
       "      <td>bear</td>\n",
       "    </tr>\n",
       "    <tr>\n",
       "      <th>...</th>\n",
       "      <td>...</td>\n",
       "      <td>...</td>\n",
       "      <td>...</td>\n",
       "      <td>...</td>\n",
       "      <td>...</td>\n",
       "      <td>...</td>\n",
       "      <td>...</td>\n",
       "      <td>...</td>\n",
       "      <td>...</td>\n",
       "      <td>...</td>\n",
       "    </tr>\n",
       "    <tr>\n",
       "      <th>5564</th>\n",
       "      <td>5564</td>\n",
       "      <td>2022-06-13 09:15:00+05:30</td>\n",
       "      <td>33728.6480</td>\n",
       "      <td>33774.0510</td>\n",
       "      <td>33210.3520</td>\n",
       "      <td>33405.8520</td>\n",
       "      <td>0</td>\n",
       "      <td>563.6990</td>\n",
       "      <td>322.7960</td>\n",
       "      <td>bear</td>\n",
       "    </tr>\n",
       "    <tr>\n",
       "      <th>5565</th>\n",
       "      <td>5565</td>\n",
       "      <td>2022-06-14 09:15:00+05:30</td>\n",
       "      <td>33180.6020</td>\n",
       "      <td>33618.1480</td>\n",
       "      <td>33123.8980</td>\n",
       "      <td>33311.3520</td>\n",
       "      <td>1</td>\n",
       "      <td>494.2500</td>\n",
       "      <td>130.7500</td>\n",
       "      <td>bull</td>\n",
       "    </tr>\n",
       "    <tr>\n",
       "      <th>5566</th>\n",
       "      <td>5566</td>\n",
       "      <td>2022-06-15 09:15:00+05:30</td>\n",
       "      <td>33317.8010</td>\n",
       "      <td>33554.5510</td>\n",
       "      <td>33249.5510</td>\n",
       "      <td>33339.0000</td>\n",
       "      <td>2</td>\n",
       "      <td>305.0000</td>\n",
       "      <td>21.1990</td>\n",
       "      <td>bull</td>\n",
       "    </tr>\n",
       "    <tr>\n",
       "      <th>5567</th>\n",
       "      <td>5567</td>\n",
       "      <td>2022-06-16 09:15:00+05:30</td>\n",
       "      <td>33648.8010</td>\n",
       "      <td>33756.5000</td>\n",
       "      <td>32537.9490</td>\n",
       "      <td>32617.1000</td>\n",
       "      <td>3</td>\n",
       "      <td>1218.5510</td>\n",
       "      <td>1031.7010</td>\n",
       "      <td>bear</td>\n",
       "    </tr>\n",
       "    <tr>\n",
       "      <th>5568</th>\n",
       "      <td>5568</td>\n",
       "      <td>2022-06-17 09:15:00+05:30</td>\n",
       "      <td>32393.4490</td>\n",
       "      <td>32889.8010</td>\n",
       "      <td>32290.5510</td>\n",
       "      <td>32743.0510</td>\n",
       "      <td>4</td>\n",
       "      <td>599.2500</td>\n",
       "      <td>349.6020</td>\n",
       "      <td>bull</td>\n",
       "    </tr>\n",
       "  </tbody>\n",
       "</table>\n",
       "<p>4202 rows × 10 columns</p>\n",
       "</div>"
      ],
      "text/plain": [
       "      Unnamed: 0                       time        open        high  \\\n",
       "1361        1361  2005-06-09 09:15:00+05:30   3659.8000   3664.4500   \n",
       "1362        1362  2005-06-10 09:15:00+05:30   3640.0500   3665.8000   \n",
       "1363        1363  2005-06-13 09:15:00+05:30   3593.8999   3648.3999   \n",
       "1364        1364  2005-06-14 09:15:00+05:30   3649.0500   3696.3501   \n",
       "1365        1365  2005-06-15 09:15:00+05:30   3700.8000   3703.7500   \n",
       "...          ...                        ...         ...         ...   \n",
       "5564        5564  2022-06-13 09:15:00+05:30  33728.6480  33774.0510   \n",
       "5565        5565  2022-06-14 09:15:00+05:30  33180.6020  33618.1480   \n",
       "5566        5566  2022-06-15 09:15:00+05:30  33317.8010  33554.5510   \n",
       "5567        5567  2022-06-16 09:15:00+05:30  33648.8010  33756.5000   \n",
       "5568        5568  2022-06-17 09:15:00+05:30  32393.4490  32889.8010   \n",
       "\n",
       "             low       close  weekday   range_HL   range_OC  type  \n",
       "1361   3609.7500   3636.5000        3    54.7000    23.3000  bear  \n",
       "1362   3585.8000   3593.5500        4    80.0000    46.5000  bear  \n",
       "1363   3556.7000   3642.8999        0    91.6999    49.0000  bull  \n",
       "1364   3637.7000   3689.8000        1    58.6501    40.7500  bull  \n",
       "1365   3662.8501   3683.8501        2    40.8999    16.9499  bear  \n",
       "...          ...         ...      ...        ...        ...   ...  \n",
       "5564  33210.3520  33405.8520        0   563.6990   322.7960  bear  \n",
       "5565  33123.8980  33311.3520        1   494.2500   130.7500  bull  \n",
       "5566  33249.5510  33339.0000        2   305.0000    21.1990  bull  \n",
       "5567  32537.9490  32617.1000        3  1218.5510  1031.7010  bear  \n",
       "5568  32290.5510  32743.0510        4   599.2500   349.6020  bull  \n",
       "\n",
       "[4202 rows x 10 columns]"
      ]
     },
     "execution_count": 49,
     "metadata": {},
     "output_type": "execute_result"
    }
   ],
   "source": [
    "df.drop(df[df[\"type\"] == \"Tie\"].index)"
   ]
  },
  {
   "cell_type": "code",
   "execution_count": 50,
   "metadata": {},
   "outputs": [
    {
     "data": {
      "text/plain": [
       "5569"
      ]
     },
     "execution_count": 50,
     "metadata": {},
     "output_type": "execute_result"
    }
   ],
   "source": [
    "len(df)"
   ]
  },
  {
   "cell_type": "code",
   "execution_count": 51,
   "metadata": {},
   "outputs": [
    {
     "name": "stdout",
     "output_type": "stream",
     "text": [
      "{'Tie': 1367, 'bear': 2179, 'bull': 2023}\n"
     ]
    }
   ],
   "source": [
    "dic = {}\n",
    "for i in df[\"type\"].unique():\n",
    "    dic[i] = df[df[\"type\"] == i][\"type\"].count()\n",
    "print(dic)"
   ]
  },
  {
   "cell_type": "code",
   "execution_count": 52,
   "metadata": {},
   "outputs": [
    {
     "data": {
      "text/html": [
       "<div>\n",
       "<style scoped>\n",
       "    .dataframe tbody tr th:only-of-type {\n",
       "        vertical-align: middle;\n",
       "    }\n",
       "\n",
       "    .dataframe tbody tr th {\n",
       "        vertical-align: top;\n",
       "    }\n",
       "\n",
       "    .dataframe thead th {\n",
       "        text-align: right;\n",
       "    }\n",
       "</style>\n",
       "<table border=\"1\" class=\"dataframe\">\n",
       "  <thead>\n",
       "    <tr style=\"text-align: right;\">\n",
       "      <th></th>\n",
       "      <th>Unnamed: 0</th>\n",
       "      <th>time</th>\n",
       "      <th>open</th>\n",
       "      <th>high</th>\n",
       "      <th>low</th>\n",
       "      <th>close</th>\n",
       "      <th>weekday</th>\n",
       "      <th>range_HL</th>\n",
       "      <th>range_OC</th>\n",
       "      <th>type</th>\n",
       "    </tr>\n",
       "  </thead>\n",
       "  <tbody>\n",
       "    <tr>\n",
       "      <th>5559</th>\n",
       "      <td>5559</td>\n",
       "      <td>2022-06-06 09:15:00+05:30</td>\n",
       "      <td>35159.148</td>\n",
       "      <td>35424.500</td>\n",
       "      <td>35072.301</td>\n",
       "      <td>35310.199</td>\n",
       "      <td>0</td>\n",
       "      <td>352.199</td>\n",
       "      <td>151.051</td>\n",
       "      <td>bull</td>\n",
       "    </tr>\n",
       "    <tr>\n",
       "      <th>5560</th>\n",
       "      <td>5560</td>\n",
       "      <td>2022-06-07 09:15:00+05:30</td>\n",
       "      <td>35080.801</td>\n",
       "      <td>35154.301</td>\n",
       "      <td>34834.398</td>\n",
       "      <td>34996.000</td>\n",
       "      <td>1</td>\n",
       "      <td>319.903</td>\n",
       "      <td>84.801</td>\n",
       "      <td>bear</td>\n",
       "    </tr>\n",
       "    <tr>\n",
       "      <th>5561</th>\n",
       "      <td>5561</td>\n",
       "      <td>2022-06-08 09:15:00+05:30</td>\n",
       "      <td>35165.648</td>\n",
       "      <td>35449.898</td>\n",
       "      <td>34831.750</td>\n",
       "      <td>34946.148</td>\n",
       "      <td>2</td>\n",
       "      <td>618.148</td>\n",
       "      <td>219.500</td>\n",
       "      <td>bear</td>\n",
       "    </tr>\n",
       "    <tr>\n",
       "      <th>5562</th>\n",
       "      <td>5562</td>\n",
       "      <td>2022-06-09 09:15:00+05:30</td>\n",
       "      <td>34802.250</td>\n",
       "      <td>35149.102</td>\n",
       "      <td>34659.102</td>\n",
       "      <td>35085.449</td>\n",
       "      <td>3</td>\n",
       "      <td>490.000</td>\n",
       "      <td>283.199</td>\n",
       "      <td>bull</td>\n",
       "    </tr>\n",
       "    <tr>\n",
       "      <th>5563</th>\n",
       "      <td>5563</td>\n",
       "      <td>2022-06-10 09:15:00+05:30</td>\n",
       "      <td>34686.949</td>\n",
       "      <td>34752.449</td>\n",
       "      <td>34346.648</td>\n",
       "      <td>34483.801</td>\n",
       "      <td>4</td>\n",
       "      <td>405.801</td>\n",
       "      <td>203.148</td>\n",
       "      <td>bear</td>\n",
       "    </tr>\n",
       "    <tr>\n",
       "      <th>5564</th>\n",
       "      <td>5564</td>\n",
       "      <td>2022-06-13 09:15:00+05:30</td>\n",
       "      <td>33728.648</td>\n",
       "      <td>33774.051</td>\n",
       "      <td>33210.352</td>\n",
       "      <td>33405.852</td>\n",
       "      <td>0</td>\n",
       "      <td>563.699</td>\n",
       "      <td>322.796</td>\n",
       "      <td>bear</td>\n",
       "    </tr>\n",
       "    <tr>\n",
       "      <th>5565</th>\n",
       "      <td>5565</td>\n",
       "      <td>2022-06-14 09:15:00+05:30</td>\n",
       "      <td>33180.602</td>\n",
       "      <td>33618.148</td>\n",
       "      <td>33123.898</td>\n",
       "      <td>33311.352</td>\n",
       "      <td>1</td>\n",
       "      <td>494.250</td>\n",
       "      <td>130.750</td>\n",
       "      <td>bull</td>\n",
       "    </tr>\n",
       "    <tr>\n",
       "      <th>5566</th>\n",
       "      <td>5566</td>\n",
       "      <td>2022-06-15 09:15:00+05:30</td>\n",
       "      <td>33317.801</td>\n",
       "      <td>33554.551</td>\n",
       "      <td>33249.551</td>\n",
       "      <td>33339.000</td>\n",
       "      <td>2</td>\n",
       "      <td>305.000</td>\n",
       "      <td>21.199</td>\n",
       "      <td>bull</td>\n",
       "    </tr>\n",
       "    <tr>\n",
       "      <th>5567</th>\n",
       "      <td>5567</td>\n",
       "      <td>2022-06-16 09:15:00+05:30</td>\n",
       "      <td>33648.801</td>\n",
       "      <td>33756.500</td>\n",
       "      <td>32537.949</td>\n",
       "      <td>32617.100</td>\n",
       "      <td>3</td>\n",
       "      <td>1218.551</td>\n",
       "      <td>1031.701</td>\n",
       "      <td>bear</td>\n",
       "    </tr>\n",
       "    <tr>\n",
       "      <th>5568</th>\n",
       "      <td>5568</td>\n",
       "      <td>2022-06-17 09:15:00+05:30</td>\n",
       "      <td>32393.449</td>\n",
       "      <td>32889.801</td>\n",
       "      <td>32290.551</td>\n",
       "      <td>32743.051</td>\n",
       "      <td>4</td>\n",
       "      <td>599.250</td>\n",
       "      <td>349.602</td>\n",
       "      <td>bull</td>\n",
       "    </tr>\n",
       "  </tbody>\n",
       "</table>\n",
       "</div>"
      ],
      "text/plain": [
       "      Unnamed: 0                       time       open       high        low  \\\n",
       "5559        5559  2022-06-06 09:15:00+05:30  35159.148  35424.500  35072.301   \n",
       "5560        5560  2022-06-07 09:15:00+05:30  35080.801  35154.301  34834.398   \n",
       "5561        5561  2022-06-08 09:15:00+05:30  35165.648  35449.898  34831.750   \n",
       "5562        5562  2022-06-09 09:15:00+05:30  34802.250  35149.102  34659.102   \n",
       "5563        5563  2022-06-10 09:15:00+05:30  34686.949  34752.449  34346.648   \n",
       "5564        5564  2022-06-13 09:15:00+05:30  33728.648  33774.051  33210.352   \n",
       "5565        5565  2022-06-14 09:15:00+05:30  33180.602  33618.148  33123.898   \n",
       "5566        5566  2022-06-15 09:15:00+05:30  33317.801  33554.551  33249.551   \n",
       "5567        5567  2022-06-16 09:15:00+05:30  33648.801  33756.500  32537.949   \n",
       "5568        5568  2022-06-17 09:15:00+05:30  32393.449  32889.801  32290.551   \n",
       "\n",
       "          close  weekday  range_HL  range_OC  type  \n",
       "5559  35310.199        0   352.199   151.051  bull  \n",
       "5560  34996.000        1   319.903    84.801  bear  \n",
       "5561  34946.148        2   618.148   219.500  bear  \n",
       "5562  35085.449        3   490.000   283.199  bull  \n",
       "5563  34483.801        4   405.801   203.148  bear  \n",
       "5564  33405.852        0   563.699   322.796  bear  \n",
       "5565  33311.352        1   494.250   130.750  bull  \n",
       "5566  33339.000        2   305.000    21.199  bull  \n",
       "5567  32617.100        3  1218.551  1031.701  bear  \n",
       "5568  32743.051        4   599.250   349.602  bull  "
      ]
     },
     "execution_count": 52,
     "metadata": {},
     "output_type": "execute_result"
    }
   ],
   "source": [
    "df.tail(10)"
   ]
  },
  {
   "cell_type": "code",
   "execution_count": 53,
   "metadata": {},
   "outputs": [
    {
     "name": "stdout",
     "output_type": "stream",
     "text": [
      "Tie\n",
      "{0: 0.25, 1: 0.25, 2: 0.24, 3: 0.25, 4: 0.24}\n",
      "bear\n",
      "{0: 0.38, 1: 0.4, 2: 0.4, 3: 0.39, 4: 0.38}\n",
      "bull\n",
      "{0: 0.37, 1: 0.35, 2: 0.35, 3: 0.36, 4: 0.38}\n"
     ]
    }
   ],
   "source": [
    "\n",
    "for i in df[\"type\"].unique():\n",
    "    print(i)\n",
    "    dic = {}\n",
    "    for j in range(5):\n",
    "        dic[j] = ((df.loc[(df[\"type\"] == i)&(df[\"weekday\"] == j)][\"weekday\"].count()) / df.loc[(df[\"weekday\"] == j)][\"weekday\"].count()).round(2)\n",
    "    print(dic)"
   ]
  },
  {
   "cell_type": "code",
   "execution_count": 54,
   "metadata": {},
   "outputs": [
    {
     "data": {
      "text/plain": [
       "Index(['Unnamed: 0', 'time', 'open', 'high', 'low', 'close', 'weekday',\n",
       "       'range_HL', 'range_OC', 'type'],\n",
       "      dtype='object')"
      ]
     },
     "execution_count": 54,
     "metadata": {},
     "output_type": "execute_result"
    }
   ],
   "source": [
    "df.columns"
   ]
  },
  {
   "cell_type": "code",
   "execution_count": 55,
   "metadata": {},
   "outputs": [
    {
     "data": {
      "text/plain": [
       "Unnamed: 0                         2000\n",
       "time          2008-01-04 09:15:00+05:30\n",
       "open                           10288.05\n",
       "high                           10326.25\n",
       "low                             10120.9\n",
       "close                           10233.2\n",
       "weekday                               4\n",
       "range_HL                         205.35\n",
       "range_OC                          54.85\n",
       "type                               bear\n",
       "Name: 2000, dtype: object"
      ]
     },
     "execution_count": 55,
     "metadata": {},
     "output_type": "execute_result"
    }
   ],
   "source": [
    "df.iloc[2000]"
   ]
  },
  {
   "cell_type": "code",
   "execution_count": 56,
   "metadata": {},
   "outputs": [
    {
     "data": {
      "text/plain": [
       "Index(['Unnamed: 0', 'time', 'open', 'high', 'low', 'close', 'weekday',\n",
       "       'range_HL', 'range_OC', 'type'],\n",
       "      dtype='object')"
      ]
     },
     "execution_count": 56,
     "metadata": {},
     "output_type": "execute_result"
    }
   ],
   "source": [
    "df.columns"
   ]
  },
  {
   "cell_type": "code",
   "execution_count": 58,
   "metadata": {},
   "outputs": [
    {
     "data": {
      "text/plain": [
       "5569"
      ]
     },
     "execution_count": 58,
     "metadata": {},
     "output_type": "execute_result"
    }
   ],
   "source": [
    "len(df)"
   ]
  },
  {
   "cell_type": "code",
   "execution_count": 59,
   "metadata": {},
   "outputs": [
    {
     "data": {
      "text/html": [
       "<div>\n",
       "<style scoped>\n",
       "    .dataframe tbody tr th:only-of-type {\n",
       "        vertical-align: middle;\n",
       "    }\n",
       "\n",
       "    .dataframe tbody tr th {\n",
       "        vertical-align: top;\n",
       "    }\n",
       "\n",
       "    .dataframe thead th {\n",
       "        text-align: right;\n",
       "    }\n",
       "</style>\n",
       "<table border=\"1\" class=\"dataframe\">\n",
       "  <thead>\n",
       "    <tr style=\"text-align: right;\">\n",
       "      <th></th>\n",
       "      <th>Unnamed: 0</th>\n",
       "      <th>time</th>\n",
       "      <th>open</th>\n",
       "      <th>high</th>\n",
       "      <th>low</th>\n",
       "      <th>close</th>\n",
       "      <th>weekday</th>\n",
       "      <th>range_HL</th>\n",
       "      <th>range_OC</th>\n",
       "      <th>type</th>\n",
       "    </tr>\n",
       "  </thead>\n",
       "  <tbody>\n",
       "    <tr>\n",
       "      <th>0</th>\n",
       "      <td>0</td>\n",
       "      <td>2000-01-03 09:15:00+05:30</td>\n",
       "      <td>1054.8101</td>\n",
       "      <td>1054.8101</td>\n",
       "      <td>1054.8101</td>\n",
       "      <td>1054.8101</td>\n",
       "      <td>0</td>\n",
       "      <td>0.0</td>\n",
       "      <td>0.0</td>\n",
       "      <td>Tie</td>\n",
       "    </tr>\n",
       "    <tr>\n",
       "      <th>1</th>\n",
       "      <td>1</td>\n",
       "      <td>2000-01-04 09:15:00+05:30</td>\n",
       "      <td>1092.0800</td>\n",
       "      <td>1092.0800</td>\n",
       "      <td>1092.0800</td>\n",
       "      <td>1092.0800</td>\n",
       "      <td>1</td>\n",
       "      <td>0.0</td>\n",
       "      <td>0.0</td>\n",
       "      <td>Tie</td>\n",
       "    </tr>\n",
       "    <tr>\n",
       "      <th>2</th>\n",
       "      <td>2</td>\n",
       "      <td>2000-01-05 09:15:00+05:30</td>\n",
       "      <td>1055.9900</td>\n",
       "      <td>1055.9900</td>\n",
       "      <td>1055.9900</td>\n",
       "      <td>1055.9900</td>\n",
       "      <td>2</td>\n",
       "      <td>0.0</td>\n",
       "      <td>0.0</td>\n",
       "      <td>Tie</td>\n",
       "    </tr>\n",
       "    <tr>\n",
       "      <th>3</th>\n",
       "      <td>3</td>\n",
       "      <td>2000-01-06 09:15:00+05:30</td>\n",
       "      <td>1086.6700</td>\n",
       "      <td>1086.6700</td>\n",
       "      <td>1086.6700</td>\n",
       "      <td>1086.6700</td>\n",
       "      <td>3</td>\n",
       "      <td>0.0</td>\n",
       "      <td>0.0</td>\n",
       "      <td>Tie</td>\n",
       "    </tr>\n",
       "    <tr>\n",
       "      <th>4</th>\n",
       "      <td>4</td>\n",
       "      <td>2000-01-07 09:15:00+05:30</td>\n",
       "      <td>1126.9900</td>\n",
       "      <td>1126.9900</td>\n",
       "      <td>1126.9900</td>\n",
       "      <td>1126.9900</td>\n",
       "      <td>4</td>\n",
       "      <td>0.0</td>\n",
       "      <td>0.0</td>\n",
       "      <td>Tie</td>\n",
       "    </tr>\n",
       "  </tbody>\n",
       "</table>\n",
       "</div>"
      ],
      "text/plain": [
       "   Unnamed: 0                       time       open       high        low  \\\n",
       "0           0  2000-01-03 09:15:00+05:30  1054.8101  1054.8101  1054.8101   \n",
       "1           1  2000-01-04 09:15:00+05:30  1092.0800  1092.0800  1092.0800   \n",
       "2           2  2000-01-05 09:15:00+05:30  1055.9900  1055.9900  1055.9900   \n",
       "3           3  2000-01-06 09:15:00+05:30  1086.6700  1086.6700  1086.6700   \n",
       "4           4  2000-01-07 09:15:00+05:30  1126.9900  1126.9900  1126.9900   \n",
       "\n",
       "       close  weekday  range_HL  range_OC type  \n",
       "0  1054.8101        0       0.0       0.0  Tie  \n",
       "1  1092.0800        1       0.0       0.0  Tie  \n",
       "2  1055.9900        2       0.0       0.0  Tie  \n",
       "3  1086.6700        3       0.0       0.0  Tie  \n",
       "4  1126.9900        4       0.0       0.0  Tie  "
      ]
     },
     "execution_count": 59,
     "metadata": {},
     "output_type": "execute_result"
    }
   ],
   "source": [
    "df.head()"
   ]
  },
  {
   "cell_type": "code",
   "execution_count": 60,
   "metadata": {},
   "outputs": [
    {
     "data": {
      "text/html": [
       "<div>\n",
       "<style scoped>\n",
       "    .dataframe tbody tr th:only-of-type {\n",
       "        vertical-align: middle;\n",
       "    }\n",
       "\n",
       "    .dataframe tbody tr th {\n",
       "        vertical-align: top;\n",
       "    }\n",
       "\n",
       "    .dataframe thead th {\n",
       "        text-align: right;\n",
       "    }\n",
       "</style>\n",
       "<table border=\"1\" class=\"dataframe\">\n",
       "  <thead>\n",
       "    <tr style=\"text-align: right;\">\n",
       "      <th></th>\n",
       "      <th>Unnamed: 0</th>\n",
       "      <th>open</th>\n",
       "      <th>high</th>\n",
       "      <th>low</th>\n",
       "      <th>close</th>\n",
       "      <th>weekday</th>\n",
       "      <th>range_HL</th>\n",
       "      <th>range_OC</th>\n",
       "      <th>type</th>\n",
       "    </tr>\n",
       "    <tr>\n",
       "      <th>time</th>\n",
       "      <th></th>\n",
       "      <th></th>\n",
       "      <th></th>\n",
       "      <th></th>\n",
       "      <th></th>\n",
       "      <th></th>\n",
       "      <th></th>\n",
       "      <th></th>\n",
       "      <th></th>\n",
       "    </tr>\n",
       "  </thead>\n",
       "  <tbody>\n",
       "    <tr>\n",
       "      <th>2000-01-03 09:15:00+05:30</th>\n",
       "      <td>0</td>\n",
       "      <td>1054.8101</td>\n",
       "      <td>1054.8101</td>\n",
       "      <td>1054.8101</td>\n",
       "      <td>1054.8101</td>\n",
       "      <td>0</td>\n",
       "      <td>0.000</td>\n",
       "      <td>0.000</td>\n",
       "      <td>Tie</td>\n",
       "    </tr>\n",
       "    <tr>\n",
       "      <th>2000-01-04 09:15:00+05:30</th>\n",
       "      <td>1</td>\n",
       "      <td>1092.0800</td>\n",
       "      <td>1092.0800</td>\n",
       "      <td>1092.0800</td>\n",
       "      <td>1092.0800</td>\n",
       "      <td>1</td>\n",
       "      <td>0.000</td>\n",
       "      <td>0.000</td>\n",
       "      <td>Tie</td>\n",
       "    </tr>\n",
       "    <tr>\n",
       "      <th>2000-01-05 09:15:00+05:30</th>\n",
       "      <td>2</td>\n",
       "      <td>1055.9900</td>\n",
       "      <td>1055.9900</td>\n",
       "      <td>1055.9900</td>\n",
       "      <td>1055.9900</td>\n",
       "      <td>2</td>\n",
       "      <td>0.000</td>\n",
       "      <td>0.000</td>\n",
       "      <td>Tie</td>\n",
       "    </tr>\n",
       "    <tr>\n",
       "      <th>2000-01-06 09:15:00+05:30</th>\n",
       "      <td>3</td>\n",
       "      <td>1086.6700</td>\n",
       "      <td>1086.6700</td>\n",
       "      <td>1086.6700</td>\n",
       "      <td>1086.6700</td>\n",
       "      <td>3</td>\n",
       "      <td>0.000</td>\n",
       "      <td>0.000</td>\n",
       "      <td>Tie</td>\n",
       "    </tr>\n",
       "    <tr>\n",
       "      <th>2000-01-07 09:15:00+05:30</th>\n",
       "      <td>4</td>\n",
       "      <td>1126.9900</td>\n",
       "      <td>1126.9900</td>\n",
       "      <td>1126.9900</td>\n",
       "      <td>1126.9900</td>\n",
       "      <td>4</td>\n",
       "      <td>0.000</td>\n",
       "      <td>0.000</td>\n",
       "      <td>Tie</td>\n",
       "    </tr>\n",
       "    <tr>\n",
       "      <th>...</th>\n",
       "      <td>...</td>\n",
       "      <td>...</td>\n",
       "      <td>...</td>\n",
       "      <td>...</td>\n",
       "      <td>...</td>\n",
       "      <td>...</td>\n",
       "      <td>...</td>\n",
       "      <td>...</td>\n",
       "      <td>...</td>\n",
       "    </tr>\n",
       "    <tr>\n",
       "      <th>2022-06-13 09:15:00+05:30</th>\n",
       "      <td>5564</td>\n",
       "      <td>33728.6480</td>\n",
       "      <td>33774.0510</td>\n",
       "      <td>33210.3520</td>\n",
       "      <td>33405.8520</td>\n",
       "      <td>0</td>\n",
       "      <td>563.699</td>\n",
       "      <td>322.796</td>\n",
       "      <td>bear</td>\n",
       "    </tr>\n",
       "    <tr>\n",
       "      <th>2022-06-14 09:15:00+05:30</th>\n",
       "      <td>5565</td>\n",
       "      <td>33180.6020</td>\n",
       "      <td>33618.1480</td>\n",
       "      <td>33123.8980</td>\n",
       "      <td>33311.3520</td>\n",
       "      <td>1</td>\n",
       "      <td>494.250</td>\n",
       "      <td>130.750</td>\n",
       "      <td>bull</td>\n",
       "    </tr>\n",
       "    <tr>\n",
       "      <th>2022-06-15 09:15:00+05:30</th>\n",
       "      <td>5566</td>\n",
       "      <td>33317.8010</td>\n",
       "      <td>33554.5510</td>\n",
       "      <td>33249.5510</td>\n",
       "      <td>33339.0000</td>\n",
       "      <td>2</td>\n",
       "      <td>305.000</td>\n",
       "      <td>21.199</td>\n",
       "      <td>bull</td>\n",
       "    </tr>\n",
       "    <tr>\n",
       "      <th>2022-06-16 09:15:00+05:30</th>\n",
       "      <td>5567</td>\n",
       "      <td>33648.8010</td>\n",
       "      <td>33756.5000</td>\n",
       "      <td>32537.9490</td>\n",
       "      <td>32617.1000</td>\n",
       "      <td>3</td>\n",
       "      <td>1218.551</td>\n",
       "      <td>1031.701</td>\n",
       "      <td>bear</td>\n",
       "    </tr>\n",
       "    <tr>\n",
       "      <th>2022-06-17 09:15:00+05:30</th>\n",
       "      <td>5568</td>\n",
       "      <td>32393.4490</td>\n",
       "      <td>32889.8010</td>\n",
       "      <td>32290.5510</td>\n",
       "      <td>32743.0510</td>\n",
       "      <td>4</td>\n",
       "      <td>599.250</td>\n",
       "      <td>349.602</td>\n",
       "      <td>bull</td>\n",
       "    </tr>\n",
       "  </tbody>\n",
       "</table>\n",
       "<p>5569 rows × 9 columns</p>\n",
       "</div>"
      ],
      "text/plain": [
       "                           Unnamed: 0        open        high         low  \\\n",
       "time                                                                        \n",
       "2000-01-03 09:15:00+05:30           0   1054.8101   1054.8101   1054.8101   \n",
       "2000-01-04 09:15:00+05:30           1   1092.0800   1092.0800   1092.0800   \n",
       "2000-01-05 09:15:00+05:30           2   1055.9900   1055.9900   1055.9900   \n",
       "2000-01-06 09:15:00+05:30           3   1086.6700   1086.6700   1086.6700   \n",
       "2000-01-07 09:15:00+05:30           4   1126.9900   1126.9900   1126.9900   \n",
       "...                               ...         ...         ...         ...   \n",
       "2022-06-13 09:15:00+05:30        5564  33728.6480  33774.0510  33210.3520   \n",
       "2022-06-14 09:15:00+05:30        5565  33180.6020  33618.1480  33123.8980   \n",
       "2022-06-15 09:15:00+05:30        5566  33317.8010  33554.5510  33249.5510   \n",
       "2022-06-16 09:15:00+05:30        5567  33648.8010  33756.5000  32537.9490   \n",
       "2022-06-17 09:15:00+05:30        5568  32393.4490  32889.8010  32290.5510   \n",
       "\n",
       "                                close  weekday  range_HL  range_OC  type  \n",
       "time                                                                      \n",
       "2000-01-03 09:15:00+05:30   1054.8101        0     0.000     0.000   Tie  \n",
       "2000-01-04 09:15:00+05:30   1092.0800        1     0.000     0.000   Tie  \n",
       "2000-01-05 09:15:00+05:30   1055.9900        2     0.000     0.000   Tie  \n",
       "2000-01-06 09:15:00+05:30   1086.6700        3     0.000     0.000   Tie  \n",
       "2000-01-07 09:15:00+05:30   1126.9900        4     0.000     0.000   Tie  \n",
       "...                               ...      ...       ...       ...   ...  \n",
       "2022-06-13 09:15:00+05:30  33405.8520        0   563.699   322.796  bear  \n",
       "2022-06-14 09:15:00+05:30  33311.3520        1   494.250   130.750  bull  \n",
       "2022-06-15 09:15:00+05:30  33339.0000        2   305.000    21.199  bull  \n",
       "2022-06-16 09:15:00+05:30  32617.1000        3  1218.551  1031.701  bear  \n",
       "2022-06-17 09:15:00+05:30  32743.0510        4   599.250   349.602  bull  \n",
       "\n",
       "[5569 rows x 9 columns]"
      ]
     },
     "execution_count": 60,
     "metadata": {},
     "output_type": "execute_result"
    }
   ],
   "source": [
    "df.set_index(\"time\")"
   ]
  },
  {
   "cell_type": "code",
   "execution_count": 61,
   "metadata": {},
   "outputs": [
    {
     "data": {
      "text/plain": [
       "pandas.core.indexes.range.RangeIndex"
      ]
     },
     "execution_count": 61,
     "metadata": {},
     "output_type": "execute_result"
    }
   ],
   "source": [
    "type(df.index)"
   ]
  },
  {
   "cell_type": "code",
   "execution_count": 63,
   "metadata": {},
   "outputs": [
    {
     "data": {
      "text/plain": [
       "Timestamp('2000-01-03 09:15:00+0530', tz='pytz.FixedOffset(330)')"
      ]
     },
     "execution_count": 63,
     "metadata": {},
     "output_type": "execute_result"
    }
   ],
   "source": [
    "pd.Timestamp(\"2000-01-03 09:15:00+05:30\")"
   ]
  },
  {
   "cell_type": "code",
   "execution_count": 67,
   "metadata": {},
   "outputs": [
    {
     "data": {
      "text/plain": [
       "Period('2000-01-03 09:15:00', 'S')"
      ]
     },
     "execution_count": 67,
     "metadata": {},
     "output_type": "execute_result"
    }
   ],
   "source": [
    "pd.Period(\"2000-01-03 09:15:00+05:30\")"
   ]
  },
  {
   "cell_type": "code",
   "execution_count": 71,
   "metadata": {},
   "outputs": [
    {
     "data": {
      "text/plain": [
       "<bound method DataFrame.reset_index of       Unnamed: 0                       time        open        high  \\\n",
       "0              0  2000-01-03 09:15:00+05:30   1054.8101   1054.8101   \n",
       "1              1  2000-01-04 09:15:00+05:30   1092.0800   1092.0800   \n",
       "2              2  2000-01-05 09:15:00+05:30   1055.9900   1055.9900   \n",
       "3              3  2000-01-06 09:15:00+05:30   1086.6700   1086.6700   \n",
       "4              4  2000-01-07 09:15:00+05:30   1126.9900   1126.9900   \n",
       "...          ...                        ...         ...         ...   \n",
       "5564        5564  2022-06-13 09:15:00+05:30  33728.6480  33774.0510   \n",
       "5565        5565  2022-06-14 09:15:00+05:30  33180.6020  33618.1480   \n",
       "5566        5566  2022-06-15 09:15:00+05:30  33317.8010  33554.5510   \n",
       "5567        5567  2022-06-16 09:15:00+05:30  33648.8010  33756.5000   \n",
       "5568        5568  2022-06-17 09:15:00+05:30  32393.4490  32889.8010   \n",
       "\n",
       "             low       close  weekday  range_HL  range_OC  type  \n",
       "0      1054.8101   1054.8101        0     0.000     0.000   Tie  \n",
       "1      1092.0800   1092.0800        1     0.000     0.000   Tie  \n",
       "2      1055.9900   1055.9900        2     0.000     0.000   Tie  \n",
       "3      1086.6700   1086.6700        3     0.000     0.000   Tie  \n",
       "4      1126.9900   1126.9900        4     0.000     0.000   Tie  \n",
       "...          ...         ...      ...       ...       ...   ...  \n",
       "5564  33210.3520  33405.8520        0   563.699   322.796  bear  \n",
       "5565  33123.8980  33311.3520        1   494.250   130.750  bull  \n",
       "5566  33249.5510  33339.0000        2   305.000    21.199  bull  \n",
       "5567  32537.9490  32617.1000        3  1218.551  1031.701  bear  \n",
       "5568  32290.5510  32743.0510        4   599.250   349.602  bull  \n",
       "\n",
       "[5569 rows x 10 columns]>"
      ]
     },
     "execution_count": 71,
     "metadata": {},
     "output_type": "execute_result"
    }
   ],
   "source": [
    "df.reset_index"
   ]
  },
  {
   "cell_type": "code",
   "execution_count": 72,
   "metadata": {},
   "outputs": [
    {
     "data": {
      "text/html": [
       "<div>\n",
       "<style scoped>\n",
       "    .dataframe tbody tr th:only-of-type {\n",
       "        vertical-align: middle;\n",
       "    }\n",
       "\n",
       "    .dataframe tbody tr th {\n",
       "        vertical-align: top;\n",
       "    }\n",
       "\n",
       "    .dataframe thead th {\n",
       "        text-align: right;\n",
       "    }\n",
       "</style>\n",
       "<table border=\"1\" class=\"dataframe\">\n",
       "  <thead>\n",
       "    <tr style=\"text-align: right;\">\n",
       "      <th></th>\n",
       "      <th>Unnamed: 0</th>\n",
       "      <th>time</th>\n",
       "      <th>open</th>\n",
       "      <th>high</th>\n",
       "      <th>low</th>\n",
       "      <th>close</th>\n",
       "      <th>weekday</th>\n",
       "      <th>range_HL</th>\n",
       "      <th>range_OC</th>\n",
       "      <th>type</th>\n",
       "    </tr>\n",
       "  </thead>\n",
       "  <tbody>\n",
       "    <tr>\n",
       "      <th>0</th>\n",
       "      <td>0</td>\n",
       "      <td>2000-01-03 09:15:00+05:30</td>\n",
       "      <td>1054.8101</td>\n",
       "      <td>1054.8101</td>\n",
       "      <td>1054.8101</td>\n",
       "      <td>1054.8101</td>\n",
       "      <td>0</td>\n",
       "      <td>0.0</td>\n",
       "      <td>0.0</td>\n",
       "      <td>Tie</td>\n",
       "    </tr>\n",
       "    <tr>\n",
       "      <th>1</th>\n",
       "      <td>1</td>\n",
       "      <td>2000-01-04 09:15:00+05:30</td>\n",
       "      <td>1092.0800</td>\n",
       "      <td>1092.0800</td>\n",
       "      <td>1092.0800</td>\n",
       "      <td>1092.0800</td>\n",
       "      <td>1</td>\n",
       "      <td>0.0</td>\n",
       "      <td>0.0</td>\n",
       "      <td>Tie</td>\n",
       "    </tr>\n",
       "    <tr>\n",
       "      <th>2</th>\n",
       "      <td>2</td>\n",
       "      <td>2000-01-05 09:15:00+05:30</td>\n",
       "      <td>1055.9900</td>\n",
       "      <td>1055.9900</td>\n",
       "      <td>1055.9900</td>\n",
       "      <td>1055.9900</td>\n",
       "      <td>2</td>\n",
       "      <td>0.0</td>\n",
       "      <td>0.0</td>\n",
       "      <td>Tie</td>\n",
       "    </tr>\n",
       "    <tr>\n",
       "      <th>3</th>\n",
       "      <td>3</td>\n",
       "      <td>2000-01-06 09:15:00+05:30</td>\n",
       "      <td>1086.6700</td>\n",
       "      <td>1086.6700</td>\n",
       "      <td>1086.6700</td>\n",
       "      <td>1086.6700</td>\n",
       "      <td>3</td>\n",
       "      <td>0.0</td>\n",
       "      <td>0.0</td>\n",
       "      <td>Tie</td>\n",
       "    </tr>\n",
       "    <tr>\n",
       "      <th>4</th>\n",
       "      <td>4</td>\n",
       "      <td>2000-01-07 09:15:00+05:30</td>\n",
       "      <td>1126.9900</td>\n",
       "      <td>1126.9900</td>\n",
       "      <td>1126.9900</td>\n",
       "      <td>1126.9900</td>\n",
       "      <td>4</td>\n",
       "      <td>0.0</td>\n",
       "      <td>0.0</td>\n",
       "      <td>Tie</td>\n",
       "    </tr>\n",
       "  </tbody>\n",
       "</table>\n",
       "</div>"
      ],
      "text/plain": [
       "   Unnamed: 0                       time       open       high        low  \\\n",
       "0           0  2000-01-03 09:15:00+05:30  1054.8101  1054.8101  1054.8101   \n",
       "1           1  2000-01-04 09:15:00+05:30  1092.0800  1092.0800  1092.0800   \n",
       "2           2  2000-01-05 09:15:00+05:30  1055.9900  1055.9900  1055.9900   \n",
       "3           3  2000-01-06 09:15:00+05:30  1086.6700  1086.6700  1086.6700   \n",
       "4           4  2000-01-07 09:15:00+05:30  1126.9900  1126.9900  1126.9900   \n",
       "\n",
       "       close  weekday  range_HL  range_OC type  \n",
       "0  1054.8101        0       0.0       0.0  Tie  \n",
       "1  1092.0800        1       0.0       0.0  Tie  \n",
       "2  1055.9900        2       0.0       0.0  Tie  \n",
       "3  1086.6700        3       0.0       0.0  Tie  \n",
       "4  1126.9900        4       0.0       0.0  Tie  "
      ]
     },
     "execution_count": 72,
     "metadata": {},
     "output_type": "execute_result"
    }
   ],
   "source": [
    "df.head()"
   ]
  },
  {
   "cell_type": "code",
   "execution_count": 75,
   "metadata": {},
   "outputs": [],
   "source": [
    "df.drop(\"Unnamed: 0\",axis=1,inplace=True)"
   ]
  },
  {
   "cell_type": "code",
   "execution_count": 76,
   "metadata": {},
   "outputs": [
    {
     "data": {
      "text/html": [
       "<div>\n",
       "<style scoped>\n",
       "    .dataframe tbody tr th:only-of-type {\n",
       "        vertical-align: middle;\n",
       "    }\n",
       "\n",
       "    .dataframe tbody tr th {\n",
       "        vertical-align: top;\n",
       "    }\n",
       "\n",
       "    .dataframe thead th {\n",
       "        text-align: right;\n",
       "    }\n",
       "</style>\n",
       "<table border=\"1\" class=\"dataframe\">\n",
       "  <thead>\n",
       "    <tr style=\"text-align: right;\">\n",
       "      <th></th>\n",
       "      <th>time</th>\n",
       "      <th>open</th>\n",
       "      <th>high</th>\n",
       "      <th>low</th>\n",
       "      <th>close</th>\n",
       "      <th>weekday</th>\n",
       "      <th>range_HL</th>\n",
       "      <th>range_OC</th>\n",
       "      <th>type</th>\n",
       "    </tr>\n",
       "  </thead>\n",
       "  <tbody>\n",
       "    <tr>\n",
       "      <th>0</th>\n",
       "      <td>2000-01-03 09:15:00+05:30</td>\n",
       "      <td>1054.8101</td>\n",
       "      <td>1054.8101</td>\n",
       "      <td>1054.8101</td>\n",
       "      <td>1054.8101</td>\n",
       "      <td>0</td>\n",
       "      <td>0.0</td>\n",
       "      <td>0.0</td>\n",
       "      <td>Tie</td>\n",
       "    </tr>\n",
       "    <tr>\n",
       "      <th>1</th>\n",
       "      <td>2000-01-04 09:15:00+05:30</td>\n",
       "      <td>1092.0800</td>\n",
       "      <td>1092.0800</td>\n",
       "      <td>1092.0800</td>\n",
       "      <td>1092.0800</td>\n",
       "      <td>1</td>\n",
       "      <td>0.0</td>\n",
       "      <td>0.0</td>\n",
       "      <td>Tie</td>\n",
       "    </tr>\n",
       "    <tr>\n",
       "      <th>2</th>\n",
       "      <td>2000-01-05 09:15:00+05:30</td>\n",
       "      <td>1055.9900</td>\n",
       "      <td>1055.9900</td>\n",
       "      <td>1055.9900</td>\n",
       "      <td>1055.9900</td>\n",
       "      <td>2</td>\n",
       "      <td>0.0</td>\n",
       "      <td>0.0</td>\n",
       "      <td>Tie</td>\n",
       "    </tr>\n",
       "    <tr>\n",
       "      <th>3</th>\n",
       "      <td>2000-01-06 09:15:00+05:30</td>\n",
       "      <td>1086.6700</td>\n",
       "      <td>1086.6700</td>\n",
       "      <td>1086.6700</td>\n",
       "      <td>1086.6700</td>\n",
       "      <td>3</td>\n",
       "      <td>0.0</td>\n",
       "      <td>0.0</td>\n",
       "      <td>Tie</td>\n",
       "    </tr>\n",
       "    <tr>\n",
       "      <th>4</th>\n",
       "      <td>2000-01-07 09:15:00+05:30</td>\n",
       "      <td>1126.9900</td>\n",
       "      <td>1126.9900</td>\n",
       "      <td>1126.9900</td>\n",
       "      <td>1126.9900</td>\n",
       "      <td>4</td>\n",
       "      <td>0.0</td>\n",
       "      <td>0.0</td>\n",
       "      <td>Tie</td>\n",
       "    </tr>\n",
       "  </tbody>\n",
       "</table>\n",
       "</div>"
      ],
      "text/plain": [
       "                        time       open       high        low      close  \\\n",
       "0  2000-01-03 09:15:00+05:30  1054.8101  1054.8101  1054.8101  1054.8101   \n",
       "1  2000-01-04 09:15:00+05:30  1092.0800  1092.0800  1092.0800  1092.0800   \n",
       "2  2000-01-05 09:15:00+05:30  1055.9900  1055.9900  1055.9900  1055.9900   \n",
       "3  2000-01-06 09:15:00+05:30  1086.6700  1086.6700  1086.6700  1086.6700   \n",
       "4  2000-01-07 09:15:00+05:30  1126.9900  1126.9900  1126.9900  1126.9900   \n",
       "\n",
       "   weekday  range_HL  range_OC type  \n",
       "0        0       0.0       0.0  Tie  \n",
       "1        1       0.0       0.0  Tie  \n",
       "2        2       0.0       0.0  Tie  \n",
       "3        3       0.0       0.0  Tie  \n",
       "4        4       0.0       0.0  Tie  "
      ]
     },
     "execution_count": 76,
     "metadata": {},
     "output_type": "execute_result"
    }
   ],
   "source": [
    "df.head()"
   ]
  },
  {
   "cell_type": "code",
   "execution_count": 78,
   "metadata": {},
   "outputs": [
    {
     "data": {
      "text/plain": [
       "time        2000-01-03 09:15:00+05:30\n",
       "open                        1054.8101\n",
       "high                        1054.8101\n",
       "low                         1054.8101\n",
       "close                       1054.8101\n",
       "weekday                             0\n",
       "range_HL                          0.0\n",
       "range_OC                          0.0\n",
       "type                              Tie\n",
       "Name: 0, dtype: object"
      ]
     },
     "execution_count": 78,
     "metadata": {},
     "output_type": "execute_result"
    }
   ],
   "source": [
    "df.iloc[0]"
   ]
  },
  {
   "cell_type": "code",
   "execution_count": 79,
   "metadata": {},
   "outputs": [],
   "source": [
    "df[\"time\"] = df[\"time\"].apply(lambda x : pd.Period(x))"
   ]
  },
  {
   "cell_type": "code",
   "execution_count": 86,
   "metadata": {},
   "outputs": [],
   "source": [
    "df.set_index(\"time\",inplace=True)"
   ]
  },
  {
   "cell_type": "code",
   "execution_count": 85,
   "metadata": {},
   "outputs": [
    {
     "data": {
      "text/html": [
       "<div>\n",
       "<style scoped>\n",
       "    .dataframe tbody tr th:only-of-type {\n",
       "        vertical-align: middle;\n",
       "    }\n",
       "\n",
       "    .dataframe tbody tr th {\n",
       "        vertical-align: top;\n",
       "    }\n",
       "\n",
       "    .dataframe thead th {\n",
       "        text-align: right;\n",
       "    }\n",
       "</style>\n",
       "<table border=\"1\" class=\"dataframe\">\n",
       "  <thead>\n",
       "    <tr style=\"text-align: right;\">\n",
       "      <th></th>\n",
       "      <th>time</th>\n",
       "      <th>open</th>\n",
       "      <th>high</th>\n",
       "      <th>low</th>\n",
       "      <th>close</th>\n",
       "      <th>weekday</th>\n",
       "      <th>range_HL</th>\n",
       "      <th>range_OC</th>\n",
       "      <th>type</th>\n",
       "    </tr>\n",
       "  </thead>\n",
       "  <tbody>\n",
       "    <tr>\n",
       "      <th>0</th>\n",
       "      <td>2000-01-03 09:15:00</td>\n",
       "      <td>1054.8101</td>\n",
       "      <td>1054.8101</td>\n",
       "      <td>1054.8101</td>\n",
       "      <td>1054.8101</td>\n",
       "      <td>0</td>\n",
       "      <td>0.0</td>\n",
       "      <td>0.0</td>\n",
       "      <td>Tie</td>\n",
       "    </tr>\n",
       "    <tr>\n",
       "      <th>1</th>\n",
       "      <td>2000-01-04 09:15:00</td>\n",
       "      <td>1092.0800</td>\n",
       "      <td>1092.0800</td>\n",
       "      <td>1092.0800</td>\n",
       "      <td>1092.0800</td>\n",
       "      <td>1</td>\n",
       "      <td>0.0</td>\n",
       "      <td>0.0</td>\n",
       "      <td>Tie</td>\n",
       "    </tr>\n",
       "    <tr>\n",
       "      <th>2</th>\n",
       "      <td>2000-01-05 09:15:00</td>\n",
       "      <td>1055.9900</td>\n",
       "      <td>1055.9900</td>\n",
       "      <td>1055.9900</td>\n",
       "      <td>1055.9900</td>\n",
       "      <td>2</td>\n",
       "      <td>0.0</td>\n",
       "      <td>0.0</td>\n",
       "      <td>Tie</td>\n",
       "    </tr>\n",
       "    <tr>\n",
       "      <th>3</th>\n",
       "      <td>2000-01-06 09:15:00</td>\n",
       "      <td>1086.6700</td>\n",
       "      <td>1086.6700</td>\n",
       "      <td>1086.6700</td>\n",
       "      <td>1086.6700</td>\n",
       "      <td>3</td>\n",
       "      <td>0.0</td>\n",
       "      <td>0.0</td>\n",
       "      <td>Tie</td>\n",
       "    </tr>\n",
       "    <tr>\n",
       "      <th>4</th>\n",
       "      <td>2000-01-07 09:15:00</td>\n",
       "      <td>1126.9900</td>\n",
       "      <td>1126.9900</td>\n",
       "      <td>1126.9900</td>\n",
       "      <td>1126.9900</td>\n",
       "      <td>4</td>\n",
       "      <td>0.0</td>\n",
       "      <td>0.0</td>\n",
       "      <td>Tie</td>\n",
       "    </tr>\n",
       "  </tbody>\n",
       "</table>\n",
       "</div>"
      ],
      "text/plain": [
       "                  time       open       high        low      close  weekday  \\\n",
       "0  2000-01-03 09:15:00  1054.8101  1054.8101  1054.8101  1054.8101        0   \n",
       "1  2000-01-04 09:15:00  1092.0800  1092.0800  1092.0800  1092.0800        1   \n",
       "2  2000-01-05 09:15:00  1055.9900  1055.9900  1055.9900  1055.9900        2   \n",
       "3  2000-01-06 09:15:00  1086.6700  1086.6700  1086.6700  1086.6700        3   \n",
       "4  2000-01-07 09:15:00  1126.9900  1126.9900  1126.9900  1126.9900        4   \n",
       "\n",
       "   range_HL  range_OC type  \n",
       "0       0.0       0.0  Tie  \n",
       "1       0.0       0.0  Tie  \n",
       "2       0.0       0.0  Tie  \n",
       "3       0.0       0.0  Tie  \n",
       "4       0.0       0.0  Tie  "
      ]
     },
     "execution_count": 85,
     "metadata": {},
     "output_type": "execute_result"
    }
   ],
   "source": [
    "df.head()"
   ]
  },
  {
   "cell_type": "code",
   "execution_count": 87,
   "metadata": {},
   "outputs": [
    {
     "data": {
      "text/plain": [
       "pandas.core.indexes.period.PeriodIndex"
      ]
     },
     "execution_count": 87,
     "metadata": {},
     "output_type": "execute_result"
    }
   ],
   "source": [
    "type(df.index)"
   ]
  },
  {
   "attachments": {},
   "cell_type": "markdown",
   "metadata": {},
   "source": [
    "# Convereting to Datetime"
   ]
  },
  {
   "cell_type": "code",
   "execution_count": 96,
   "metadata": {},
   "outputs": [
    {
     "data": {
      "text/html": [
       "<div>\n",
       "<style scoped>\n",
       "    .dataframe tbody tr th:only-of-type {\n",
       "        vertical-align: middle;\n",
       "    }\n",
       "\n",
       "    .dataframe tbody tr th {\n",
       "        vertical-align: top;\n",
       "    }\n",
       "\n",
       "    .dataframe thead th {\n",
       "        text-align: right;\n",
       "    }\n",
       "</style>\n",
       "<table border=\"1\" class=\"dataframe\">\n",
       "  <thead>\n",
       "    <tr style=\"text-align: right;\">\n",
       "      <th></th>\n",
       "      <th>a</th>\n",
       "      <th>b</th>\n",
       "    </tr>\n",
       "  </thead>\n",
       "  <tbody>\n",
       "    <tr>\n",
       "      <th>2 June 2013</th>\n",
       "      <td>39</td>\n",
       "      <td>90</td>\n",
       "    </tr>\n",
       "    <tr>\n",
       "      <th>Aug 29, 2014</th>\n",
       "      <td>23</td>\n",
       "      <td>96</td>\n",
       "    </tr>\n",
       "    <tr>\n",
       "      <th>2015-06-26</th>\n",
       "      <td>48</td>\n",
       "      <td>96</td>\n",
       "    </tr>\n",
       "    <tr>\n",
       "      <th>7/12/16</th>\n",
       "      <td>75</td>\n",
       "      <td>37</td>\n",
       "    </tr>\n",
       "  </tbody>\n",
       "</table>\n",
       "</div>"
      ],
      "text/plain": [
       "               a   b\n",
       "2 June 2013   39  90\n",
       "Aug 29, 2014  23  96\n",
       "2015-06-26    48  96\n",
       "7/12/16       75  37"
      ]
     },
     "execution_count": 96,
     "metadata": {},
     "output_type": "execute_result"
    }
   ],
   "source": [
    "d1 = ['2 June 2013', 'Aug 29, 2014', '2015-06-26', '7/12/16']\n",
    "\n",
    "# And just some random data\n",
    "ts3 = pd.DataFrame(np.random.randint(10, 100, (4,2)), index=d1, \n",
    "                   columns=list('ab'))\n",
    "ts3"
   ]
  },
  {
   "cell_type": "code",
   "execution_count": 97,
   "metadata": {},
   "outputs": [
    {
     "data": {
      "text/plain": [
       "Index(['2 June 2013', 'Aug 29, 2014', '2015-06-26', '7/12/16'], dtype='object')"
      ]
     },
     "execution_count": 97,
     "metadata": {},
     "output_type": "execute_result"
    }
   ],
   "source": [
    "ts3.index"
   ]
  },
  {
   "cell_type": "code",
   "execution_count": 94,
   "metadata": {},
   "outputs": [],
   "source": [
    "ts3.index = pd.to_datetime(ts3.index)"
   ]
  },
  {
   "cell_type": "code",
   "execution_count": 95,
   "metadata": {},
   "outputs": [
    {
     "data": {
      "text/plain": [
       "DatetimeIndex(['2013-06-02', '2014-08-29', '2015-06-26', '2016-07-12'], dtype='datetime64[ns]', freq=None)"
      ]
     },
     "execution_count": 95,
     "metadata": {},
     "output_type": "execute_result"
    }
   ],
   "source": [
    "ts3.index"
   ]
  },
  {
   "cell_type": "code",
   "execution_count": 101,
   "metadata": {},
   "outputs": [
    {
     "data": {
      "text/plain": [
       "4"
      ]
     },
     "execution_count": 101,
     "metadata": {},
     "output_type": "execute_result"
    }
   ],
   "source": [
    "pd.to_datetime(\"4.3.2023\",dayfirst=True).day"
   ]
  },
  {
   "attachments": {},
   "cell_type": "markdown",
   "metadata": {},
   "source": [
    "# TimeDelta"
   ]
  },
  {
   "cell_type": "code",
   "execution_count": 102,
   "metadata": {},
   "outputs": [
    {
     "data": {
      "text/plain": [
       "Timedelta('2 days 00:00:00')"
      ]
     },
     "execution_count": 102,
     "metadata": {},
     "output_type": "execute_result"
    }
   ],
   "source": [
    "# Timedeltas are differences in times. This is not the same as a a period, but conceptually similar. For\n",
    "# instance, if we want to take the difference between September 3rd and  September 1st, we get a Timedelta of\n",
    "# two days.\n",
    "pd.Timestamp('9/3/2016')-pd.Timestamp('9/1/2016')"
   ]
  },
  {
   "cell_type": "code",
   "execution_count": 105,
   "metadata": {},
   "outputs": [
    {
     "name": "stderr",
     "output_type": "stream",
     "text": [
      "C:\\Users\\SPURUSHO\\AppData\\Local\\Temp\\ipykernel_11912\\2870131770.py:1: FutureWarning: Units 'M', 'Y' and 'y' do not represent unambiguous timedelta values and will be removed in a future version.\n",
      "  pd.Timestamp('9/2/2016 8:10AM') + pd.Timedelta('3Y 1M 12D 3H')\n"
     ]
    },
    {
     "data": {
      "text/plain": [
       "Timestamp('2019-09-15 04:38:36')"
      ]
     },
     "execution_count": 105,
     "metadata": {},
     "output_type": "execute_result"
    }
   ],
   "source": [
    "pd.Timestamp('9/2/2016 8:10AM') + pd.Timedelta('3Y 1M 12D 3H')"
   ]
  },
  {
   "cell_type": "code",
   "execution_count": 107,
   "metadata": {},
   "outputs": [],
   "source": [
    "from datetime import datetime\n",
    "time_abhi = datetime.now()"
   ]
  },
  {
   "cell_type": "code",
   "execution_count": 114,
   "metadata": {},
   "outputs": [
    {
     "data": {
      "text/plain": [
       "datetime.datetime(2023, 4, 27, 12, 24, 33, 262490)"
      ]
     },
     "execution_count": 114,
     "metadata": {},
     "output_type": "execute_result"
    }
   ],
   "source": [
    "time_abhi.today()"
   ]
  },
  {
   "cell_type": "code",
   "execution_count": 116,
   "metadata": {},
   "outputs": [
    {
     "data": {
      "text/plain": [
       "datetime.datetime(2023, 4, 27, 12, 24, 49, 10075)"
      ]
     },
     "execution_count": 116,
     "metadata": {},
     "output_type": "execute_result"
    }
   ],
   "source": [
    "datetime.now()"
   ]
  },
  {
   "cell_type": "code",
   "execution_count": 117,
   "metadata": {},
   "outputs": [
    {
     "data": {
      "text/plain": [
       "3"
      ]
     },
     "execution_count": 117,
     "metadata": {},
     "output_type": "execute_result"
    }
   ],
   "source": [
    "time_abhi.weekday()"
   ]
  },
  {
   "cell_type": "code",
   "execution_count": 122,
   "metadata": {},
   "outputs": [
    {
     "name": "stderr",
     "output_type": "stream",
     "text": [
      "C:\\Users\\SPURUSHO\\AppData\\Local\\Temp\\ipykernel_11912\\3411606104.py:1: UserWarning: Parsing dates in DD/MM/YYYY format when dayfirst=False (the default) was specified. This may lead to inconsistently parsed dates! Specify a format to ensure consistent parsing.\n",
      "  pd.Timestamp(\"27/4/2023\").weekday()\n"
     ]
    },
    {
     "data": {
      "text/plain": [
       "3"
      ]
     },
     "execution_count": 122,
     "metadata": {},
     "output_type": "execute_result"
    }
   ],
   "source": [
    "pd.Timestamp(\"27/4/2023\").weekday() "
   ]
  },
  {
   "cell_type": "code",
   "execution_count": 130,
   "metadata": {},
   "outputs": [
    {
     "data": {
      "text/plain": [
       "6"
      ]
     },
     "execution_count": 130,
     "metadata": {},
     "output_type": "execute_result"
    }
   ],
   "source": [
    "pd.Timestamp('9/4/2016').weekday()"
   ]
  },
  {
   "attachments": {},
   "cell_type": "markdown",
   "metadata": {},
   "source": [
    "# OFFSETS"
   ]
  },
  {
   "cell_type": "code",
   "execution_count": 134,
   "metadata": {},
   "outputs": [
    {
     "data": {
      "text/plain": [
       "Timestamp('2016-09-11 00:00:00')"
      ]
     },
     "execution_count": 134,
     "metadata": {},
     "output_type": "execute_result"
    }
   ],
   "source": [
    "pd.Timestamp('9/4/2016') + pd.offsets.Week()"
   ]
  },
  {
   "cell_type": "code",
   "execution_count": 137,
   "metadata": {},
   "outputs": [
    {
     "name": "stderr",
     "output_type": "stream",
     "text": [
      "C:\\Users\\SPURUSHO\\AppData\\Local\\Temp\\ipykernel_11912\\3843231738.py:1: UserWarning: Parsing dates in DD/MM/YYYY format when dayfirst=False (the default) was specified. This may lead to inconsistently parsed dates! Specify a format to ensure consistent parsing.\n",
      "  pd.Timestamp('27/05/2023') + pd.offsets.MonthEnd()\n"
     ]
    },
    {
     "data": {
      "text/plain": [
       "Timestamp('2023-05-31 00:00:00')"
      ]
     },
     "execution_count": 137,
     "metadata": {},
     "output_type": "execute_result"
    }
   ],
   "source": [
    "pd.Timestamp('27/05/2023') + pd.offsets.MonthEnd()"
   ]
  },
  {
   "cell_type": "code",
   "execution_count": 139,
   "metadata": {},
   "outputs": [
    {
     "name": "stderr",
     "output_type": "stream",
     "text": [
      "C:\\Users\\SPURUSHO\\AppData\\Local\\Temp\\ipykernel_11912\\3843231738.py:1: UserWarning: Parsing dates in DD/MM/YYYY format when dayfirst=False (the default) was specified. This may lead to inconsistently parsed dates! Specify a format to ensure consistent parsing.\n",
      "  pd.Timestamp('27/05/2023') + pd.offsets.MonthEnd()\n"
     ]
    },
    {
     "data": {
      "text/plain": [
       "Timestamp('2023-05-31 00:00:00')"
      ]
     },
     "execution_count": 139,
     "metadata": {},
     "output_type": "execute_result"
    }
   ],
   "source": [
    "pd.Timestamp('27/05/2023') + pd.offsets.MonthEnd()"
   ]
  },
  {
   "cell_type": "code",
   "execution_count": 149,
   "metadata": {},
   "outputs": [
    {
     "name": "stderr",
     "output_type": "stream",
     "text": [
      "C:\\Users\\SPURUSHO\\AppData\\Local\\Temp\\ipykernel_11912\\3987870935.py:1: UserWarning: Parsing dates in DD/MM/YYYY format when dayfirst=False (the default) was specified. This may lead to inconsistently parsed dates! Specify a format to ensure consistent parsing.\n",
      "  pd.Timestamp('28/04/2023') + pd.offsets.BDay()\n"
     ]
    },
    {
     "data": {
      "text/plain": [
       "Timestamp('2023-05-01 00:00:00')"
      ]
     },
     "execution_count": 149,
     "metadata": {},
     "output_type": "execute_result"
    }
   ],
   "source": [
    "pd.Timestamp('28/04/2023') + pd.offsets.BDay()"
   ]
  },
  {
   "cell_type": "code",
   "execution_count": 145,
   "metadata": {},
   "outputs": [
    {
     "data": {
      "text/plain": [
       "0"
      ]
     },
     "execution_count": 145,
     "metadata": {},
     "output_type": "execute_result"
    }
   ],
   "source": [
    "pd.Timestamp('2023-0-29 00:00:00')"
   ]
  },
  {
   "cell_type": "code",
   "execution_count": 150,
   "metadata": {},
   "outputs": [
    {
     "data": {
      "text/plain": [
       "Timestamp('2023-04-28 12:36:47.243284')"
      ]
     },
     "execution_count": 150,
     "metadata": {},
     "output_type": "execute_result"
    }
   ],
   "source": [
    "pd.Timestamp(datetime.now()) + pd.offsets.BDay()"
   ]
  },
  {
   "attachments": {},
   "cell_type": "markdown",
   "metadata": {},
   "source": [
    "# Date_Range"
   ]
  },
  {
   "cell_type": "code",
   "execution_count": 151,
   "metadata": {},
   "outputs": [
    {
     "data": {
      "text/plain": [
       "DatetimeIndex(['2016-10-02', '2016-10-16', '2016-10-30', '2016-11-13',\n",
       "               '2016-11-27', '2016-12-11', '2016-12-25', '2017-01-08',\n",
       "               '2017-01-22'],\n",
       "              dtype='datetime64[ns]', freq='2W-SUN')"
      ]
     },
     "execution_count": 151,
     "metadata": {},
     "output_type": "execute_result"
    }
   ],
   "source": [
    "dates = pd.date_range('10-01-2016', periods=9, freq='2W-SUN')\n",
    "dates"
   ]
  },
  {
   "cell_type": "code",
   "execution_count": 152,
   "metadata": {},
   "outputs": [
    {
     "name": "stderr",
     "output_type": "stream",
     "text": [
      "C:\\Users\\SPURUSHO\\AppData\\Local\\Temp\\ipykernel_11912\\510718256.py:1: UserWarning: Parsing dates in DD/MM/YYYY format when dayfirst=False (the default) was specified. This may lead to inconsistently parsed dates! Specify a format to ensure consistent parsing.\n",
      "  dates = pd.date_range('27/04/2023', periods=9, freq='B')\n"
     ]
    }
   ],
   "source": [
    "dates = pd.date_range('27/04/2023', periods=9, freq='B')"
   ]
  },
  {
   "cell_type": "code",
   "execution_count": 153,
   "metadata": {},
   "outputs": [
    {
     "data": {
      "text/plain": [
       "DatetimeIndex(['2023-04-27', '2023-04-28', '2023-05-01', '2023-05-02',\n",
       "               '2023-05-03', '2023-05-04', '2023-05-05', '2023-05-08',\n",
       "               '2023-05-09'],\n",
       "              dtype='datetime64[ns]', freq='B')"
      ]
     },
     "execution_count": 153,
     "metadata": {},
     "output_type": "execute_result"
    }
   ],
   "source": [
    "dates"
   ]
  },
  {
   "cell_type": "code",
   "execution_count": 154,
   "metadata": {},
   "outputs": [
    {
     "data": {
      "text/plain": [
       "DatetimeIndex(['2016-06-01', '2016-09-01', '2016-12-01', '2017-03-01',\n",
       "               '2017-06-01', '2017-09-01', '2017-12-01', '2018-03-01',\n",
       "               '2018-06-01', '2018-09-01', '2018-12-01', '2019-03-01'],\n",
       "              dtype='datetime64[ns]', freq='QS-JUN')"
      ]
     },
     "execution_count": 154,
     "metadata": {},
     "output_type": "execute_result"
    }
   ],
   "source": [
    "pd.date_range('04-01-2016', periods=12, freq='QS-JUN')"
   ]
  },
  {
   "cell_type": "code",
   "execution_count": 155,
   "metadata": {},
   "outputs": [
    {
     "data": {
      "text/html": [
       "<div>\n",
       "<style scoped>\n",
       "    .dataframe tbody tr th:only-of-type {\n",
       "        vertical-align: middle;\n",
       "    }\n",
       "\n",
       "    .dataframe tbody tr th {\n",
       "        vertical-align: top;\n",
       "    }\n",
       "\n",
       "    .dataframe thead th {\n",
       "        text-align: right;\n",
       "    }\n",
       "</style>\n",
       "<table border=\"1\" class=\"dataframe\">\n",
       "  <thead>\n",
       "    <tr style=\"text-align: right;\">\n",
       "      <th></th>\n",
       "      <th>Count 1</th>\n",
       "      <th>Count 2</th>\n",
       "    </tr>\n",
       "  </thead>\n",
       "  <tbody>\n",
       "    <tr>\n",
       "      <th>2016-10-02</th>\n",
       "      <td>100</td>\n",
       "      <td>119</td>\n",
       "    </tr>\n",
       "    <tr>\n",
       "      <th>2016-10-16</th>\n",
       "      <td>98</td>\n",
       "      <td>119</td>\n",
       "    </tr>\n",
       "    <tr>\n",
       "      <th>2016-10-30</th>\n",
       "      <td>98</td>\n",
       "      <td>121</td>\n",
       "    </tr>\n",
       "    <tr>\n",
       "      <th>2016-11-13</th>\n",
       "      <td>107</td>\n",
       "      <td>121</td>\n",
       "    </tr>\n",
       "    <tr>\n",
       "      <th>2016-11-27</th>\n",
       "      <td>111</td>\n",
       "      <td>128</td>\n",
       "    </tr>\n",
       "    <tr>\n",
       "      <th>2016-12-11</th>\n",
       "      <td>112</td>\n",
       "      <td>122</td>\n",
       "    </tr>\n",
       "    <tr>\n",
       "      <th>2016-12-25</th>\n",
       "      <td>112</td>\n",
       "      <td>116</td>\n",
       "    </tr>\n",
       "    <tr>\n",
       "      <th>2017-01-08</th>\n",
       "      <td>119</td>\n",
       "      <td>118</td>\n",
       "    </tr>\n",
       "    <tr>\n",
       "      <th>2017-01-22</th>\n",
       "      <td>123</td>\n",
       "      <td>125</td>\n",
       "    </tr>\n",
       "  </tbody>\n",
       "</table>\n",
       "</div>"
      ],
      "text/plain": [
       "            Count 1  Count 2\n",
       "2016-10-02      100      119\n",
       "2016-10-16       98      119\n",
       "2016-10-30       98      121\n",
       "2016-11-13      107      121\n",
       "2016-11-27      111      128\n",
       "2016-12-11      112      122\n",
       "2016-12-25      112      116\n",
       "2017-01-08      119      118\n",
       "2017-01-22      123      125"
      ]
     },
     "execution_count": 155,
     "metadata": {},
     "output_type": "execute_result"
    }
   ],
   "source": [
    "dates = pd.date_range('10-01-2016', periods=9, freq='2W-SUN')\n",
    "df = pd.DataFrame({'Count 1': 100 + np.random.randint(-5, 10, 9).cumsum(),\n",
    "                  'Count 2': 120 + np.random.randint(-5, 10, 9)}, index=dates)\n",
    "df"
   ]
  },
  {
   "cell_type": "code",
   "execution_count": 156,
   "metadata": {},
   "outputs": [
    {
     "data": {
      "text/plain": [
       "Int64Index([6, 6, 6, 6, 6, 6, 6, 6, 6], dtype='int64')"
      ]
     },
     "execution_count": 156,
     "metadata": {},
     "output_type": "execute_result"
    }
   ],
   "source": [
    "df.index.weekday"
   ]
  },
  {
   "cell_type": "code",
   "execution_count": 157,
   "metadata": {},
   "outputs": [
    {
     "data": {
      "text/html": [
       "<div>\n",
       "<style scoped>\n",
       "    .dataframe tbody tr th:only-of-type {\n",
       "        vertical-align: middle;\n",
       "    }\n",
       "\n",
       "    .dataframe tbody tr th {\n",
       "        vertical-align: top;\n",
       "    }\n",
       "\n",
       "    .dataframe thead th {\n",
       "        text-align: right;\n",
       "    }\n",
       "</style>\n",
       "<table border=\"1\" class=\"dataframe\">\n",
       "  <thead>\n",
       "    <tr style=\"text-align: right;\">\n",
       "      <th></th>\n",
       "      <th>Count 1</th>\n",
       "      <th>Count 2</th>\n",
       "    </tr>\n",
       "  </thead>\n",
       "  <tbody>\n",
       "    <tr>\n",
       "      <th>2016-10-02</th>\n",
       "      <td>NaN</td>\n",
       "      <td>NaN</td>\n",
       "    </tr>\n",
       "    <tr>\n",
       "      <th>2016-10-16</th>\n",
       "      <td>-2.0</td>\n",
       "      <td>0.0</td>\n",
       "    </tr>\n",
       "    <tr>\n",
       "      <th>2016-10-30</th>\n",
       "      <td>0.0</td>\n",
       "      <td>2.0</td>\n",
       "    </tr>\n",
       "    <tr>\n",
       "      <th>2016-11-13</th>\n",
       "      <td>9.0</td>\n",
       "      <td>0.0</td>\n",
       "    </tr>\n",
       "    <tr>\n",
       "      <th>2016-11-27</th>\n",
       "      <td>4.0</td>\n",
       "      <td>7.0</td>\n",
       "    </tr>\n",
       "    <tr>\n",
       "      <th>2016-12-11</th>\n",
       "      <td>1.0</td>\n",
       "      <td>-6.0</td>\n",
       "    </tr>\n",
       "    <tr>\n",
       "      <th>2016-12-25</th>\n",
       "      <td>0.0</td>\n",
       "      <td>-6.0</td>\n",
       "    </tr>\n",
       "    <tr>\n",
       "      <th>2017-01-08</th>\n",
       "      <td>7.0</td>\n",
       "      <td>2.0</td>\n",
       "    </tr>\n",
       "    <tr>\n",
       "      <th>2017-01-22</th>\n",
       "      <td>4.0</td>\n",
       "      <td>7.0</td>\n",
       "    </tr>\n",
       "  </tbody>\n",
       "</table>\n",
       "</div>"
      ],
      "text/plain": [
       "            Count 1  Count 2\n",
       "2016-10-02      NaN      NaN\n",
       "2016-10-16     -2.0      0.0\n",
       "2016-10-30      0.0      2.0\n",
       "2016-11-13      9.0      0.0\n",
       "2016-11-27      4.0      7.0\n",
       "2016-12-11      1.0     -6.0\n",
       "2016-12-25      0.0     -6.0\n",
       "2017-01-08      7.0      2.0\n",
       "2017-01-22      4.0      7.0"
      ]
     },
     "execution_count": 157,
     "metadata": {},
     "output_type": "execute_result"
    }
   ],
   "source": [
    "df.diff()"
   ]
  },
  {
   "cell_type": "code",
   "execution_count": 158,
   "metadata": {},
   "outputs": [
    {
     "data": {
      "text/html": [
       "<div>\n",
       "<style scoped>\n",
       "    .dataframe tbody tr th:only-of-type {\n",
       "        vertical-align: middle;\n",
       "    }\n",
       "\n",
       "    .dataframe tbody tr th {\n",
       "        vertical-align: top;\n",
       "    }\n",
       "\n",
       "    .dataframe thead th {\n",
       "        text-align: right;\n",
       "    }\n",
       "</style>\n",
       "<table border=\"1\" class=\"dataframe\">\n",
       "  <thead>\n",
       "    <tr style=\"text-align: right;\">\n",
       "      <th></th>\n",
       "      <th>Count 1</th>\n",
       "      <th>Count 2</th>\n",
       "    </tr>\n",
       "  </thead>\n",
       "  <tbody>\n",
       "    <tr>\n",
       "      <th>2016-10-31</th>\n",
       "      <td>98.666667</td>\n",
       "      <td>119.666667</td>\n",
       "    </tr>\n",
       "    <tr>\n",
       "      <th>2016-11-30</th>\n",
       "      <td>109.000000</td>\n",
       "      <td>124.500000</td>\n",
       "    </tr>\n",
       "    <tr>\n",
       "      <th>2016-12-31</th>\n",
       "      <td>112.000000</td>\n",
       "      <td>119.000000</td>\n",
       "    </tr>\n",
       "    <tr>\n",
       "      <th>2017-01-31</th>\n",
       "      <td>121.000000</td>\n",
       "      <td>121.500000</td>\n",
       "    </tr>\n",
       "  </tbody>\n",
       "</table>\n",
       "</div>"
      ],
      "text/plain": [
       "               Count 1     Count 2\n",
       "2016-10-31   98.666667  119.666667\n",
       "2016-11-30  109.000000  124.500000\n",
       "2016-12-31  112.000000  119.000000\n",
       "2017-01-31  121.000000  121.500000"
      ]
     },
     "execution_count": 158,
     "metadata": {},
     "output_type": "execute_result"
    }
   ],
   "source": [
    "df.resample('M').mean()"
   ]
  },
  {
   "cell_type": "code",
   "execution_count": 159,
   "metadata": {},
   "outputs": [
    {
     "name": "stderr",
     "output_type": "stream",
     "text": [
      "C:\\Users\\SPURUSHO\\AppData\\Local\\Temp\\ipykernel_11912\\2104988236.py:1: FutureWarning: Indexing a DataFrame with a datetimelike index using a single string to slice the rows, like `frame[string]`, is deprecated and will be removed in a future version. Use `frame.loc[string]` instead.\n",
      "  df[\"2017\"]\n"
     ]
    },
    {
     "data": {
      "text/html": [
       "<div>\n",
       "<style scoped>\n",
       "    .dataframe tbody tr th:only-of-type {\n",
       "        vertical-align: middle;\n",
       "    }\n",
       "\n",
       "    .dataframe tbody tr th {\n",
       "        vertical-align: top;\n",
       "    }\n",
       "\n",
       "    .dataframe thead th {\n",
       "        text-align: right;\n",
       "    }\n",
       "</style>\n",
       "<table border=\"1\" class=\"dataframe\">\n",
       "  <thead>\n",
       "    <tr style=\"text-align: right;\">\n",
       "      <th></th>\n",
       "      <th>Count 1</th>\n",
       "      <th>Count 2</th>\n",
       "    </tr>\n",
       "  </thead>\n",
       "  <tbody>\n",
       "    <tr>\n",
       "      <th>2017-01-08</th>\n",
       "      <td>119</td>\n",
       "      <td>118</td>\n",
       "    </tr>\n",
       "    <tr>\n",
       "      <th>2017-01-22</th>\n",
       "      <td>123</td>\n",
       "      <td>125</td>\n",
       "    </tr>\n",
       "  </tbody>\n",
       "</table>\n",
       "</div>"
      ],
      "text/plain": [
       "            Count 1  Count 2\n",
       "2017-01-08      119      118\n",
       "2017-01-22      123      125"
      ]
     },
     "execution_count": 159,
     "metadata": {},
     "output_type": "execute_result"
    }
   ],
   "source": [
    "df[\"2017\"]"
   ]
  },
  {
   "cell_type": "code",
   "execution_count": 160,
   "metadata": {},
   "outputs": [
    {
     "data": {
      "text/html": [
       "<div>\n",
       "<style scoped>\n",
       "    .dataframe tbody tr th:only-of-type {\n",
       "        vertical-align: middle;\n",
       "    }\n",
       "\n",
       "    .dataframe tbody tr th {\n",
       "        vertical-align: top;\n",
       "    }\n",
       "\n",
       "    .dataframe thead th {\n",
       "        text-align: right;\n",
       "    }\n",
       "</style>\n",
       "<table border=\"1\" class=\"dataframe\">\n",
       "  <thead>\n",
       "    <tr style=\"text-align: right;\">\n",
       "      <th></th>\n",
       "      <th>Count 1</th>\n",
       "      <th>Count 2</th>\n",
       "    </tr>\n",
       "  </thead>\n",
       "  <tbody>\n",
       "    <tr>\n",
       "      <th>2016-10-02</th>\n",
       "      <td>100</td>\n",
       "      <td>119</td>\n",
       "    </tr>\n",
       "    <tr>\n",
       "      <th>2016-10-16</th>\n",
       "      <td>98</td>\n",
       "      <td>119</td>\n",
       "    </tr>\n",
       "    <tr>\n",
       "      <th>2016-10-30</th>\n",
       "      <td>98</td>\n",
       "      <td>121</td>\n",
       "    </tr>\n",
       "    <tr>\n",
       "      <th>2016-11-13</th>\n",
       "      <td>107</td>\n",
       "      <td>121</td>\n",
       "    </tr>\n",
       "    <tr>\n",
       "      <th>2016-11-27</th>\n",
       "      <td>111</td>\n",
       "      <td>128</td>\n",
       "    </tr>\n",
       "  </tbody>\n",
       "</table>\n",
       "</div>"
      ],
      "text/plain": [
       "            Count 1  Count 2\n",
       "2016-10-02      100      119\n",
       "2016-10-16       98      119\n",
       "2016-10-30       98      121\n",
       "2016-11-13      107      121\n",
       "2016-11-27      111      128"
      ]
     },
     "execution_count": 160,
     "metadata": {},
     "output_type": "execute_result"
    }
   ],
   "source": [
    "df.head()"
   ]
  },
  {
   "cell_type": "code",
   "execution_count": null,
   "metadata": {},
   "outputs": [],
   "source": []
  }
 ],
 "metadata": {
  "kernelspec": {
   "display_name": "Python 3",
   "language": "python",
   "name": "python3"
  },
  "language_info": {
   "codemirror_mode": {
    "name": "ipython",
    "version": 3
   },
   "file_extension": ".py",
   "mimetype": "text/x-python",
   "name": "python",
   "nbconvert_exporter": "python",
   "pygments_lexer": "ipython3",
   "version": "3.10.11"
  },
  "orig_nbformat": 4
 },
 "nbformat": 4,
 "nbformat_minor": 2
}
